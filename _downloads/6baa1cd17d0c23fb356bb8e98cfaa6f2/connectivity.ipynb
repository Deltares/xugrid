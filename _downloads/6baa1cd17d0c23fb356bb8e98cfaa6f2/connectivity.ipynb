{
  "cells": [
    {
      "cell_type": "code",
      "execution_count": null,
      "metadata": {
        "collapsed": false
      },
      "outputs": [],
      "source": [
        "%matplotlib inline"
      ]
    },
    {
      "cell_type": "markdown",
      "metadata": {},
      "source": [
        "\n# Connectivity\n\nA fundamental difference between structured and unstructured grids lies in the\nconnectivity. This is true for cell to cell connectivity, but also for vertex\n(node) connectivity (which set of vertices make up an individual cell). In\nstructured grids, connectivity is implicit and can be directly derived from row\nand column numbers; unstructured grids require explicit connectivity lists.\n\nXugrid provides a number of methods to derive and extract different kinds of\nconnectivities, as well as a number of operations which require connectivity\ninformation. These methods and there interrelations are briefly introduced here.\n\nFor 2D meshes, the fundamental topological information consists of:\n\n* A list of nodes (vertices): (x, y) coordinate pairs forming points.\n* A list of faces (polygons): for every face, a list of index values indicating\n  which vertices form its exterior.\n  \n## Imports\n\nThe following imports suffice for the examples.\n"
      ]
    },
    {
      "cell_type": "code",
      "execution_count": null,
      "metadata": {
        "collapsed": false
      },
      "outputs": [],
      "source": [
        "import matplotlib.pyplot as plt\nimport numpy as np\nimport xarray as xr\n\nimport xugrid"
      ]
    },
    {
      "cell_type": "markdown",
      "metadata": {},
      "source": [
        "## Connectivity arrays\n\nFrom the fundamental face node connectivity, all other connectivities can be\nderived. These are accessible via the ``grid`` attribute of a XugridDataArray\nor XugridDataset. The are the available (derived) connectivity arrays are\nlisted below. Depending on the (ir)regularity of the connectivity, the arrays\nare returned as either (dense) numpy arrays of integers, or as\n``scipy.sparse.csr_matrix``.\n\n* ``face_node_connectivity``: dense ``(n_face, n_max_per_face)``\n* ``edge_node_connectivity``: dense ``(n_edge, 2)``\n* ``edge_face_connectivity``: dense ``(n_edge, 2)``\n* ``face_face_connectivity``: sparse\n* ``face_edge_connectivity``: sparse\n* ``node_edge_connectivity``: sparse\n* ``node_face_connectivity``: sparse\n\n## Binary erosion and dilation\n\nBinary erosion and dilation are useful operations to e.g. locate boundary\ncells, or to \"shrink\" some collection of cells.\n\nBy default, the border value for binary erosion is set to ``False``. This\nmeans the erosion erodes inwards from the boundaries.\n\n"
      ]
    },
    {
      "cell_type": "code",
      "execution_count": null,
      "metadata": {
        "collapsed": false
      },
      "outputs": [],
      "source": [
        "ds = xugrid.data.disk()\nuda = xugrid.UgridDataArray(\n    xr.full_like(ds[\"face_z\"].ugrid.obj, True, dtype=bool),\n    ds.grid,\n)\niter2 = uda.ugrid.binary_erosion(iterations=2)\niter5 = uda.ugrid.binary_erosion(iterations=5)\n\nfig, (ax0, ax1) = plt.subplots(ncols=2, figsize=(12, 5))\niter2.ugrid.plot(ax=ax0)\niter5.ugrid.plot(ax=ax1)"
      ]
    },
    {
      "cell_type": "markdown",
      "metadata": {},
      "source": [
        "By default, the border value for binary dilation is **also** set to\n``False``. This means boundary does not dilate inwards by default.\n\n"
      ]
    },
    {
      "cell_type": "code",
      "execution_count": null,
      "metadata": {
        "collapsed": false
      },
      "outputs": [],
      "source": [
        "uda = xugrid.UgridDataArray(\n    xr.full_like(ds[\"face_z\"].ugrid.obj, False, dtype=bool),\n    ds.grid,\n)\nuda.values[0] = True\n\niter1 = uda.ugrid.binary_dilation(iterations=1)\niter1_boundary = uda.ugrid.binary_dilation(iterations=1, border_value=True)\n\nfig, (ax0, ax1) = plt.subplots(ncols=2, figsize=(12, 5))\niter1.ugrid.plot(ax=ax0)\niter1_boundary.ugrid.plot(ax=ax1)"
      ]
    },
    {
      "cell_type": "markdown",
      "metadata": {},
      "source": [
        "## Connected Components\n\nXugrid also wraps `:py:func:scipy.sparse.csgraph.connected_components:` to\nanalyse connected parts of the mesh.\n\n"
      ]
    },
    {
      "cell_type": "code",
      "execution_count": null,
      "metadata": {
        "collapsed": false
      },
      "outputs": [],
      "source": [
        "grid = xugrid.data.xoxo()\nuda = xugrid.UgridDataArray(\n    xr.DataArray(np.ones(grid.node_face_connectivity.shape[0]), dims=[\"face\"]), grid\n)\nlabeled = uda.ugrid.connected_components()\nlabeled.ugrid.plot(cmap=\"RdBu\")"
      ]
    },
    {
      "cell_type": "markdown",
      "metadata": {},
      "source": [
        "## Centroidal Voronoi Tesselation\n\nWe can also use connectivity information to derive a centroidal Voronoi\nTesselation.\n\n"
      ]
    },
    {
      "cell_type": "code",
      "execution_count": null,
      "metadata": {
        "collapsed": false
      },
      "outputs": [],
      "source": [
        "voronoi_grid = grid.tesselate_centroidal_voronoi()\nxugrid.plot.line(voronoi_grid, color=\"black\")"
      ]
    },
    {
      "cell_type": "markdown",
      "metadata": {},
      "source": [
        "There are two alternative flavors to consider. We can fully ignore the\nexterior and consider only the (interior) centroids. Alternatively, we can\ninclude intersections of the voronoi edges with the mesh exterior, but\nignore the original nodes.\n\nBoth methods have the benefit of guaranteeing convex Voronoi polygons as\ntheir output -- provided the input mesh is convex as well! However, neither\npreserves the exterior exactly: the resulting mesh has smaller bounds than\nthe original.\n\n"
      ]
    },
    {
      "cell_type": "code",
      "execution_count": null,
      "metadata": {
        "collapsed": false
      },
      "outputs": [],
      "source": [
        "centroid_only = grid.tesselate_centroidal_voronoi(add_exterior=False)\nconvex_exterior = grid.tesselate_centroidal_voronoi(\n    add_exterior=True, add_vertices=False\n)\n\nfig, (ax0, ax1) = plt.subplots(ncols=2, figsize=(12, 5))\nxugrid.plot.line(centroid_only, ax=ax0, color=\"black\")\nxugrid.plot.line(convex_exterior, ax=ax1, color=\"black\")"
      ]
    },
    {
      "cell_type": "markdown",
      "metadata": {},
      "source": [
        "## Triangulation\n\nTriangulation is a commonly required operation: every polygon can be split\ninto triangles and triangles are the simplest geometric primitive. This makes\nthem very attractive for e.g. visualization.\n\nWe can break down one of the Voronoi tesselations from above into triangles:\n\n"
      ]
    },
    {
      "cell_type": "code",
      "execution_count": null,
      "metadata": {
        "collapsed": false
      },
      "outputs": [],
      "source": [
        "triangulation = convex_exterior.triangulate()\nfig, (ax0, ax1) = plt.subplots(ncols=2, figsize=(12, 5))\nxugrid.plot.line(convex_exterior, ax=ax0, color=\"black\")\nxugrid.plot.line(triangulation, ax=ax1, color=\"black\")"
      ]
    }
  ],
  "metadata": {
    "kernelspec": {
      "display_name": "Python 3",
      "language": "python",
      "name": "python3"
    },
    "language_info": {
      "codemirror_mode": {
        "name": "ipython",
        "version": 3
      },
      "file_extension": ".py",
      "mimetype": "text/x-python",
      "name": "python",
      "nbconvert_exporter": "python",
      "pygments_lexer": "ipython3",
      "version": "3.9.7"
    }
  },
  "nbformat": 4,
  "nbformat_minor": 0
}