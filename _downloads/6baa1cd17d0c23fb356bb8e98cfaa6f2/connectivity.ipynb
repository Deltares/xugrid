{
  "cells": [
    {
      "cell_type": "markdown",
      "metadata": {},
      "source": [
        "\n# Connectivity\n\nA fundamental difference between structured and unstructured grids lies in the\nconnectivity. This is true for cell to cell connectivity, but also for vertex\n(node) connectivity (which set of vertices make up an individual cell). In\nstructured grids, connectivity is implicit and can be directly derived from row\nand column numbers; unstructured grids require explicit connectivity lists.\n\nXugrid provides a number of methods to derive and extract different kinds of\nconnectivities, as well as a number of operations which require connectivity\ninformation. These methods and their interrelations are briefly introduced here.\n\nFor 2D meshes, the fundamental topological information consists of:\n\n* A list of nodes (vertices): (x, y) coordinate pairs forming points.\n* A list of faces (polygons): for every face, a list of index values indicating\n  which vertices form its exterior.\n\n## Imports\n\nThe following imports suffice for the examples.\n"
      ]
    },
    {
      "cell_type": "code",
      "execution_count": null,
      "metadata": {
        "collapsed": false
      },
      "outputs": [],
      "source": [
        "import matplotlib.pyplot as plt\nimport numpy as np\nimport xarray as xr\n\nimport xugrid"
      ]
    },
    {
      "cell_type": "markdown",
      "metadata": {},
      "source": [
        "## Connectivity arrays\n\nFrom the fundamental face node connectivity, all other connectivities can be\nderived. These are accessible via the ``grid`` attribute of a XugridDataArray\nor XugridDataset. The are the available (derived) connectivity arrays are\nlisted below. Depending on the (ir)regularity of the connectivity, the arrays\nare returned as either (dense) numpy arrays of integers, or as\n``scipy.sparse.csr_matrix``.\n\n* ``face_node_connectivity``: dense ``(n_face, n_max_nodes_per_face)``\n* ``edge_node_connectivity``: dense ``(n_edge, 2)``\n* ``edge_face_connectivity``: dense ``(n_edge, 2)``\n* ``face_face_connectivity``: sparse\n* ``face_edge_connectivity``: sparse\n* ``node_edge_connectivity``: sparse\n* ``node_face_connectivity``: sparse\n\nSome connectivity arrays are returned in dense form, some in sparse. The\n``node_edge_connectivity`` is the inverse of the ``edge_node_connectivity``.\nWhile the edge node connectivity array is very regular -- every edge is\nassociated with just two nodes, the node edge connectivity is irregular: a\nnode may be associated with just one edge or many and this requires many fill\nvalues in dense form.\n\n## Binary erosion and dilation\n\nBinary erosion and dilation are useful operations to e.g. locate boundary\ncells, or to \"shrink\" some collection of cells. In this example, we start\nwith a grid in which all cells are given a value of ``True`` (equal to\n``1``).\n\nBy default, the border value for binary erosion is set to ``False`` (equal to\n``0``). This means the erosion erodes inwards from the boundaries.\n\n"
      ]
    },
    {
      "cell_type": "code",
      "execution_count": null,
      "metadata": {
        "collapsed": false
      },
      "outputs": [],
      "source": [
        "ds = xugrid.data.disk()\nuda = xugrid.UgridDataArray(\n    xr.full_like(ds.obj[\"face_z\"], True, dtype=bool),\n    ds.grids[0],\n)\niter2 = uda.ugrid.binary_erosion(iterations=2)\niter5 = uda.ugrid.binary_erosion(iterations=5)\n\nfig, (ax0, ax1) = plt.subplots(ncols=2, figsize=(12, 5))\niter2.ugrid.plot(ax=ax0)\niter5.ugrid.plot(ax=ax1)"
      ]
    },
    {
      "cell_type": "markdown",
      "metadata": {},
      "source": [
        "By default, the border value for binary dilation is **also** set to\n``False``. This means boundary does not dilate inwards by default.  We'll\nstart by setting a single value in the center of the grid to ``True``.\n\n"
      ]
    },
    {
      "cell_type": "code",
      "execution_count": null,
      "metadata": {
        "collapsed": false
      },
      "outputs": [],
      "source": [
        "uda = xugrid.UgridDataArray(\n    xr.full_like(ds[\"face_z\"].ugrid.obj, False, dtype=bool),\n    ds.grids[0],\n)\nuda[0] = True\nuda.ugrid.plot()"
      ]
    },
    {
      "cell_type": "markdown",
      "metadata": {},
      "source": [
        "Now let's run two dilations: one with the default border, and one with the\nalternative border value:\n\n"
      ]
    },
    {
      "cell_type": "code",
      "execution_count": null,
      "metadata": {
        "collapsed": false
      },
      "outputs": [],
      "source": [
        "iter1 = uda.ugrid.binary_dilation(iterations=1)\niter1_boundary = uda.ugrid.binary_dilation(iterations=1, border_value=True)\n\nfig, (ax0, ax1) = plt.subplots(ncols=2, figsize=(12, 5))\niter1.ugrid.plot(ax=ax0)\niter1_boundary.ugrid.plot(ax=ax1)"
      ]
    },
    {
      "cell_type": "markdown",
      "metadata": {},
      "source": [
        "## Connected Components\n\nXugrid also wraps :py:func:`scipy.sparse.csgraph.connected_components` to\nanalyse connected parts of the mesh.\n\n"
      ]
    },
    {
      "cell_type": "code",
      "execution_count": null,
      "metadata": {
        "collapsed": false
      },
      "outputs": [],
      "source": [
        "grid = xugrid.data.xoxo()\nuda = xugrid.UgridDataArray(\n    xr.DataArray(np.ones(grid.node_face_connectivity.shape[0]), dims=[\"face\"]), grid\n)\nlabeled = uda.ugrid.connected_components()\nlabeled.ugrid.plot(cmap=\"RdBu\")"
      ]
    },
    {
      "cell_type": "markdown",
      "metadata": {},
      "source": [
        "## Centroidal Voronoi Tesselation\n\nWe can also use connectivity information to derive a centroidal Voronoi\nTesselation.\n\n"
      ]
    },
    {
      "cell_type": "code",
      "execution_count": null,
      "metadata": {
        "collapsed": false
      },
      "outputs": [],
      "source": [
        "voronoi_grid = grid.tesselate_centroidal_voronoi()\nxugrid.plot.line(voronoi_grid, color=\"black\")"
      ]
    },
    {
      "cell_type": "markdown",
      "metadata": {},
      "source": [
        "There are two alternative flavors to consider. We can fully ignore the\nexterior and consider only the (interior) centroids. Alternatively, we can\ninclude intersections of the voronoi edges with the mesh exterior, but\nignore the original nodes.\n\nBoth methods have the benefit of guaranteeing convex Voronoi polygons as\ntheir output -- provided the input mesh is convex as well! However, neither\npreserves the exterior exactly: the resulting mesh has smaller bounds than\nthe original.\n\n"
      ]
    },
    {
      "cell_type": "code",
      "execution_count": null,
      "metadata": {
        "collapsed": false
      },
      "outputs": [],
      "source": [
        "centroid_only = grid.tesselate_centroidal_voronoi(add_exterior=False)\nconvex_exterior = grid.tesselate_centroidal_voronoi(\n    add_exterior=True, add_vertices=False\n)\n\nfig, (ax0, ax1) = plt.subplots(ncols=2, figsize=(12, 5))\nxugrid.plot.line(centroid_only, ax=ax0, color=\"black\")\nxugrid.plot.line(convex_exterior, ax=ax1, color=\"black\")"
      ]
    },
    {
      "cell_type": "markdown",
      "metadata": {},
      "source": [
        "## Triangulation\n\nTriangulation is a commonly required operation: every polygon can be split\ninto triangles and triangles are the simplest geometric primitive. This makes\nthem very attractive for e.g. visualization.\n\nWe can break down one of the Voronoi tesselations from above into triangles:\n\n"
      ]
    },
    {
      "cell_type": "code",
      "execution_count": null,
      "metadata": {
        "collapsed": false
      },
      "outputs": [],
      "source": [
        "triangulation = convex_exterior.triangulate()\nfig, (ax0, ax1) = plt.subplots(ncols=2, figsize=(12, 5))\nxugrid.plot.line(convex_exterior, ax=ax0, color=\"black\")\nxugrid.plot.line(triangulation, ax=ax1, color=\"black\")"
      ]
    },
    {
      "cell_type": "markdown",
      "metadata": {},
      "source": [
        "## Laplace interpolation\n\nLaplace interpolation is a simple but powerful method to fill holes in a\ngrid. Laplace's equation describes potential flow, such as e.g. steady-state\nheat conduction or steady-state groundwater flow. In this method, we solve\nLaplace's equation for the nodata gaps, with data values functioning as fixed\npotential boundary conditions.\n\nLet's setup a mesh with data exclusively on the left- and rightmost faces of\nthe upper and lower parts:\n\n"
      ]
    },
    {
      "cell_type": "code",
      "execution_count": null,
      "metadata": {
        "collapsed": false
      },
      "outputs": [],
      "source": [
        "grid = xugrid.data.xoxo()\n\nda = xr.DataArray(\n    np.full(283, np.nan),\n    dims=[grid.face_dimension],\n)\nda.data[2] = 0.0\nda.data[12] = 0.0\nda.data[77] = 10.0\nda.data[132] = 10.0\n\nuda = xugrid.UgridDataArray(da, grid)\n\nfig, ax = plt.subplots()\nuda.ugrid.plot(ax=ax)\nuda.ugrid.plot.line(ax=ax, color=\"black\")"
      ]
    },
    {
      "cell_type": "markdown",
      "metadata": {},
      "source": [
        "We can now use Laplace interpolation to fill the gaps in the grid.\n\n"
      ]
    },
    {
      "cell_type": "code",
      "execution_count": null,
      "metadata": {
        "collapsed": false
      },
      "outputs": [],
      "source": [
        "filled = uda.ugrid.laplace_interpolate()\nfilled.ugrid.plot(cmap=\"gist_rainbow\", vmin=2.5, vmax=7.5)"
      ]
    },
    {
      "cell_type": "markdown",
      "metadata": {},
      "source": [
        "Laplace interpolation can also be used on the nodes of a grid.\nWe start by removing 75% of the data. Then we fill it up again using\ninterpolation.\n\n"
      ]
    },
    {
      "cell_type": "code",
      "execution_count": null,
      "metadata": {
        "collapsed": false
      },
      "outputs": [],
      "source": [
        "disk_nodes = xugrid.data.disk()[\"node_z\"]\ndisk_emptied = disk_nodes.where(disk_nodes[\"mesh2d_nNodes\"] % 4 == 0)\ndisk_filled = disk_emptied.ugrid.laplace_interpolate(direct_solve=True)\n\nfig, (ax0, ax1, ax2) = plt.subplots(ncols=3, figsize=(12, 3))\ndisk_emptied.ugrid.plot.scatter(ax=ax0)\ndisk_filled.ugrid.plot.scatter(ax=ax1)\ndisk_filled.ugrid.plot(ax=ax2)"
      ]
    },
    {
      "cell_type": "markdown",
      "metadata": {},
      "source": [
        "## Reverse-Cuthill McKee\n\nFor numerical solutions, low \"bandwidth\" is desirable as this increases\nperformance due to more efficient memory access. Xugrid wraps\n:py:func:`scipy.sparse.csgraph.reverse_cuthill_mckee` to reorder\ngrids for bandwith reduction.\n\nTo illustrate, let's take a look at the connectivity matrix of the Xoxo grid.\n\n"
      ]
    },
    {
      "cell_type": "code",
      "execution_count": null,
      "metadata": {
        "collapsed": false
      },
      "outputs": [],
      "source": [
        "grid = xugrid.data.xoxo()\nconnectivity = grid.face_face_connectivity.toarray() != 0\n\nfig, ax = plt.subplots(figsize=(8, 8))\nax.imshow(connectivity, cmap=\"Greys\")"
      ]
    },
    {
      "cell_type": "markdown",
      "metadata": {},
      "source": [
        "The bandwidth of this matrix is poor. Connections are all over the place: low\nnumbered cells are connected to high numbered cells (and vice versa). The\nbandwidth of the reordered grid is much smaller and has much better data\nlocality:\n\n"
      ]
    },
    {
      "cell_type": "code",
      "execution_count": null,
      "metadata": {
        "collapsed": false
      },
      "outputs": [],
      "source": [
        "renumbered_grid, _ = grid.reverse_cuthill_mckee()\nconnectivity = renumbered_grid.face_face_connectivity.toarray() != 0\n\nfig, ax = plt.subplots(figsize=(8, 8))\nax.imshow(connectivity, cmap=\"Greys\")"
      ]
    }
  ],
  "metadata": {
    "kernelspec": {
      "display_name": "Python 3",
      "language": "python",
      "name": "python3"
    },
    "language_info": {
      "codemirror_mode": {
        "name": "ipython",
        "version": 3
      },
      "file_extension": ".py",
      "mimetype": "text/x-python",
      "name": "python",
      "nbconvert_exporter": "python",
      "pygments_lexer": "ipython3",
      "version": "3.12.10"
    }
  },
  "nbformat": 4,
  "nbformat_minor": 0
}