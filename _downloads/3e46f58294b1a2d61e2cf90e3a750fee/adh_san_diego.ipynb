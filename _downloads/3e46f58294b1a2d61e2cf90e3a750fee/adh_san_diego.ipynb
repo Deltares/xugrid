{
  "cells": [
    {
      "cell_type": "markdown",
      "metadata": {},
      "source": [
        "\n# ADH San Diego\n\nThis is small dataset containing the output of a hydraulic simulation.\n\nIt contains a static dataset (bed elevation) and a time varying dataset\n(water depth).\n"
      ]
    },
    {
      "cell_type": "code",
      "execution_count": null,
      "metadata": {
        "collapsed": false
      },
      "outputs": [],
      "source": [
        "import matplotlib.pyplot as plt\nimport numpy as np\n\nimport xugrid\n\nuds = xugrid.data.adh_san_diego()\n\nfig, (ax0, ax1) = plt.subplots(\n    nrows=1, ncols=2, sharex=True, sharey=True, figsize=(13, 5)\n)\nuds[\"elevation\"].ugrid.plot(\n    ax=ax0, add_colorbar=False, cmap=\"RdBu\", levels=np.arange(-75.0, 0.0)\n)\nuds[\"depth\"].isel(time=0).ugrid.plot(\n    ax=ax1, add_colorbar=False, cmap=\"viridis\", levels=np.arange(20.0)\n)"
      ]
    }
  ],
  "metadata": {
    "kernelspec": {
      "display_name": "Python 3",
      "language": "python",
      "name": "python3"
    },
    "language_info": {
      "codemirror_mode": {
        "name": "ipython",
        "version": 3
      },
      "file_extension": ".py",
      "mimetype": "text/x-python",
      "name": "python",
      "nbconvert_exporter": "python",
      "pygments_lexer": "ipython3",
      "version": "3.12.10"
    }
  },
  "nbformat": 4,
  "nbformat_minor": 0
}