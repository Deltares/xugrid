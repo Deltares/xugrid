{
  "cells": [
    {
      "cell_type": "code",
      "execution_count": null,
      "metadata": {
        "collapsed": false
      },
      "outputs": [],
      "source": [
        "%matplotlib inline"
      ]
    },
    {
      "cell_type": "markdown",
      "metadata": {},
      "source": [
        "\n# OverlapRegridder\n\nThe overlap regridder works in two stages. First, it searches the source grid\nfor all faces of the target grid, computes the intersections, and stores all\noverlaps between source and target faces. This occurs when the regridder is\ninitialized. Second, the regridder applies the weights: it reduces the\ncollection of overlapping faces to a single value for the target face.\n\nThere are many reductions possible. The best choice generally differs based on\nthe physical meaning of the variable, or the application. Xugrid provides a\nnumber of reductions, but it's also possible to use a custom reduction\nfunction. This is demonstrated here.\n\nWe start with the same example as in the quick overview.\n"
      ]
    },
    {
      "cell_type": "code",
      "execution_count": null,
      "metadata": {
        "collapsed": false
      },
      "outputs": [],
      "source": [
        "import matplotlib.pyplot as plt\nimport numpy as np\n\nimport xugrid as xu"
      ]
    },
    {
      "cell_type": "markdown",
      "metadata": {},
      "source": [
        "We'll use a part of a triangular grid with the surface elevation (including\nsome bathymetry) of the Netherlands, and a coarser target grid.\n\n"
      ]
    },
    {
      "cell_type": "code",
      "execution_count": null,
      "metadata": {
        "collapsed": false
      },
      "outputs": [],
      "source": [
        "def create_grid(bounds, nx, ny):\n    \"\"\"\n    Create a simple grid of triangles covering a rectangle.\n    \"\"\"\n    import numpy as np\n    from matplotlib.tri import Triangulation\n\n    xmin, ymin, xmax, ymax = bounds\n    dx = (xmax - xmin) / nx\n    dy = (ymax - ymin) / ny\n    x = np.arange(xmin, xmax + dx, dx)\n    y = np.arange(ymin, ymax + dy, dy)\n    y, x = [a.ravel() for a in np.meshgrid(y, x, indexing=\"ij\")]\n    faces = Triangulation(x, y).triangles\n    return xu.Ugrid2d(x, y, -1, faces)\n\n\nuda = xu.data.elevation_nl().ugrid.sel(\n    x=slice(125_000, 225_000), y=slice(440_000, 500_000)\n)\ngrid = create_grid(uda.ugrid.total_bounds, nx=7, ny=6)"
      ]
    },
    {
      "cell_type": "code",
      "execution_count": null,
      "metadata": {
        "collapsed": false
      },
      "outputs": [],
      "source": [
        "fig, ax = plt.subplots()\nuda.ugrid.plot(vmin=-20, vmax=90, cmap=\"terrain\", ax=ax)\ngrid.plot(ax=ax, color=\"red\")"
      ]
    },
    {
      "cell_type": "markdown",
      "metadata": {},
      "source": [
        "## Method comparison\n\nLet's compare the different reduction functions that are available in\nxugrid. We'll create a regridder once for every method, and plot the results\nside by side.\n\n..note::\n  Sum and conductance (which is first-order conservative) result in much higher\n  values. The white in the figures are high values, not no data.\n\n"
      ]
    },
    {
      "cell_type": "code",
      "execution_count": null,
      "metadata": {
        "collapsed": false
      },
      "outputs": [],
      "source": [
        "functions = [\n    \"mean\",\n    \"harmonic_mean\",\n    \"geometric_mean\",\n    \"sum\",\n    \"minimum\",\n    \"maximum\",\n    \"mode\",\n    \"median\",\n    \"conductance\",\n    \"max_overlap\",\n]\n\nfig, axes = plt.subplots(nrows=5, ncols=2, figsize=(10, 25), sharey=True, sharex=True)\naxes = axes.ravel()\n\nfor f, ax in zip(functions, axes):\n    regridder = xu.OverlapRegridder(source=uda, target=grid, method=f)\n    result = regridder.regrid(uda)\n    result.ugrid.plot(vmin=-20, vmax=90, cmap=\"terrain\", ax=ax)\n    ax.set_title(f)"
      ]
    },
    {
      "cell_type": "markdown",
      "metadata": {},
      "source": [
        "## Custom reductions\n\nIt's also possible to define your own reduction methods. Such a method is\ninserted during the ``.regrid`` call and compiled by `Numba`_ for performance.\n\nA valid reduction method must be compileable by Numba, and takes exactly three\narguments: ``values``, ``indices``, ``weights``.\n\n* ``values``: is the ravelled array containing the (float) source values.\n* ``indices``: contains the flat, or \"linear\", (integer) indices into the\n  source values for a single target face.\n* ``weights``: contains the (float) overlap between the target face and the\n  source faces. The size of ``weights`` is equal to the size of ``indices``.\n\nXugrid regridder reduction functions are implemented in such a way. For a example, the area\ncould be implemented as follows:\n\n"
      ]
    },
    {
      "cell_type": "code",
      "execution_count": null,
      "metadata": {
        "collapsed": false
      },
      "outputs": [],
      "source": [
        "def mean(values, indices, weights):\n    subset = values[indices]\n    return np.nansum(subset * weights) / np.nansum(weights)"
      ]
    },
    {
      "cell_type": "markdown",
      "metadata": {},
      "source": [
        "<div class=\"alert alert-info\"><h4>Note</h4><p>* Custom reductions methods must be able to deal with NaN values as these\n     are commonly encountered in datasets as a \"no data value\".\n   * If Python features are used that are unsupported by Numba, you will get\n     somewhat obscure errors. In such a case, test your function with\n     synthetic values for ``values, indices, weights``.\n   * The built-in mean is more efficient, avoiding temporary memory\n     allocations.</p></div>\n\nTo use our custom method, we provide at initialization of the OverlapRegridder:\n\n"
      ]
    },
    {
      "cell_type": "code",
      "execution_count": null,
      "metadata": {
        "collapsed": false
      },
      "outputs": [],
      "source": [
        "regridder = xu.OverlapRegridder(uda, grid, method=mean)\nresult = regridder.regrid(uda)\nresult.ugrid.plot(vmin=-20, vmax=90, cmap=\"terrain\")"
      ]
    },
    {
      "cell_type": "markdown",
      "metadata": {},
      "source": [
        "Not every reduction uses the weights argument. For example, computing an\narbitrary quantile value requires just the values. Again, make sure the\nfunction can deal with NaN values! -- hence ``nanpercentile`` rather than\n``percentile`` here.\n\n"
      ]
    },
    {
      "cell_type": "code",
      "execution_count": null,
      "metadata": {
        "collapsed": false
      },
      "outputs": [],
      "source": [
        "def p17(values, indices, weights):\n    subset = values[indices]\n    return np.nanpercentile(subset, 17)\n\n\nregridder = xu.OverlapRegridder(uda, grid, method=p17)\nresult = regridder.regrid(uda)\nresult.ugrid.plot(vmin=-20, vmax=90, cmap=\"terrain\")"
      ]
    },
    {
      "cell_type": "markdown",
      "metadata": {},
      "source": [
        "\n"
      ]
    }
  ],
  "metadata": {
    "kernelspec": {
      "display_name": "Python 3",
      "language": "python",
      "name": "python3"
    },
    "language_info": {
      "codemirror_mode": {
        "name": "ipython",
        "version": 3
      },
      "file_extension": ".py",
      "mimetype": "text/x-python",
      "name": "python",
      "nbconvert_exporter": "python",
      "pygments_lexer": "ipython3",
      "version": "3.9.15"
    }
  },
  "nbformat": 4,
  "nbformat_minor": 0
}