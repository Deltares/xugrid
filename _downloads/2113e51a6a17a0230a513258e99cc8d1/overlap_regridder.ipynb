{
  "cells": [
    {
      "cell_type": "markdown",
      "metadata": {},
      "source": [
        "\n# OverlapRegridder\n\nThe overlap regridder works in two stages. First, it searches the source grid\nfor all faces of the target grid, computes the intersections, and stores all\noverlaps between source and target faces. This occurs when the regridder is\ninitialized. Second, the regridder applies the weights: it reduces the\ncollection of overlapping faces to a single value for the target face.\n\nThere are many reductions possible. The best choice generally differs based on\nthe physical meaning of the variable, or the application. Xugrid provides a\nnumber of reductions, but it's also possible to use a custom reduction\nfunction. This is demonstrated here.\n\nWe start with the same example as in the quick overview.\n"
      ]
    },
    {
      "cell_type": "code",
      "execution_count": null,
      "metadata": {
        "collapsed": false
      },
      "outputs": [],
      "source": [
        "import matplotlib.pyplot as plt\nimport numpy as np\n\nimport xugrid as xu"
      ]
    },
    {
      "cell_type": "markdown",
      "metadata": {},
      "source": [
        "We'll use a part of a triangular grid with the surface elevation (including\nsome bathymetry) of the Netherlands, and a coarser target grid.\n\n"
      ]
    },
    {
      "cell_type": "code",
      "execution_count": null,
      "metadata": {
        "collapsed": false
      },
      "outputs": [],
      "source": [
        "def create_grid(bounds, nx, ny):\n    \"\"\"Create a simple grid of triangles covering a rectangle.\"\"\"\n    import numpy as np\n    from matplotlib.tri import Triangulation\n\n    xmin, ymin, xmax, ymax = bounds\n    dx = (xmax - xmin) / nx\n    dy = (ymax - ymin) / ny\n    x = np.arange(xmin, xmax + dx, dx)\n    y = np.arange(ymin, ymax + dy, dy)\n    y, x = [a.ravel() for a in np.meshgrid(y, x, indexing=\"ij\")]\n    faces = Triangulation(x, y).triangles\n    return xu.Ugrid2d(x, y, -1, faces)\n\n\nuda = xu.data.elevation_nl().ugrid.sel(\n    x=slice(125_000, 225_000), y=slice(440_000, 500_000)\n)\ngrid = create_grid(uda.ugrid.total_bounds, nx=7, ny=6)"
      ]
    },
    {
      "cell_type": "code",
      "execution_count": null,
      "metadata": {
        "collapsed": false
      },
      "outputs": [],
      "source": [
        "fig, ax = plt.subplots()\nuda.ugrid.plot(vmin=-20, vmax=90, cmap=\"terrain\", ax=ax)\ngrid.plot(ax=ax, color=\"red\")"
      ]
    },
    {
      "cell_type": "markdown",
      "metadata": {},
      "source": [
        "## Method comparison\n\nLet's compare the different reduction functions that are available in\nxugrid. We'll create a regridder once for every method, and plot the results\nside by side.\n\n<div class=\"alert alert-info\"><h4>Note</h4><p>Sum and results in much higher values. The white in the figures are high\n  values, not no data. In contrast, a geometric mean generally only makes\n  sense for physical quantities with a \"true zero\": surface elevation is not\n  such quantity, as a datum is an arbitrary level. The xugrid geometric mean\n  returns NaN if reducing over negative values.</p></div>\n\n"
      ]
    },
    {
      "cell_type": "code",
      "execution_count": null,
      "metadata": {
        "collapsed": false
      },
      "outputs": [],
      "source": [
        "functions = [\n    \"mean\",\n    \"harmonic_mean\",\n    \"geometric_mean\",\n    \"sum\",\n    \"minimum\",\n    \"maximum\",\n    \"mode\",\n    \"median\",\n    \"max_overlap\",\n]\n\nfig, axes = plt.subplots(nrows=5, ncols=2, figsize=(10, 25), sharey=True, sharex=True)\naxes = axes.ravel()\n\nfor f, ax in zip(functions, axes):\n    regridder = xu.OverlapRegridder(source=uda, target=grid, method=f)\n    result = regridder.regrid(uda)\n    result.ugrid.plot(vmin=-20, vmax=90, cmap=\"terrain\", ax=ax)\n    ax.set_title(f)"
      ]
    },
    {
      "cell_type": "markdown",
      "metadata": {},
      "source": [
        "## Relative overlap\n\nFor some reductions, the relative degree of overlap with the original source\ncell is required rather than the absolute overlap, e.g. for first-order\nconservative methods, such as conductance:\n\n"
      ]
    },
    {
      "cell_type": "code",
      "execution_count": null,
      "metadata": {
        "collapsed": false
      },
      "outputs": [],
      "source": [
        "regridder = xu.RelativeOverlapRegridder(source=uda, target=grid, method=\"conductance\")\nresult = regridder.regrid(uda)\nresult.ugrid.plot()"
      ]
    },
    {
      "cell_type": "markdown",
      "metadata": {},
      "source": [
        "## Custom reductions\n\nIt's also possible to define your own reduction methods. Such a method is\ninserted during the ``.regrid`` call and compiled by `Numba`_ for performance.\n\nA valid reduction method must be compileable by Numba, and takes exactly three\narguments: ``values``, ``weights``, ``workspace``.\n\n* ``values``: is the array containing the (float) source values.\n* ``weights``: contains the (float) overlap between the target face and the\n  source faces. The size of ``weights`` is equal to the size of ``values``.\n* ``workspace``: used as a temporary workspace of floats. The size of ``work`` is\n  equal to the size of ``values``. (Make sure to zero it beforehand if that's\n  important to your reduction!)\n\nXugrid regridder reduction functions are implemented in such a way. For a\nexample, an area weighted sum could be implemented as follows:\n\n"
      ]
    },
    {
      "cell_type": "code",
      "execution_count": null,
      "metadata": {
        "collapsed": false
      },
      "outputs": [],
      "source": [
        "def mean(values, weights, workspace):\n    total = 0.0\n    weight_sum = 0.0\n    for value, weight in zip(values, weights):\n        if ~np.isnan(value):\n            total += value * weight\n            weight_sum += weight\n    if weight_sum == 0.0:\n        return np.nan\n    return total / weight_sum"
      ]
    },
    {
      "cell_type": "markdown",
      "metadata": {},
      "source": [
        "<div class=\"alert alert-info\"><h4>Note</h4><p>* Each reduction must return a single float.\n   * Always check for ``np.isnan(value)``: Custom reductions methods must be\n     able to deal with NaN values as these are commonly encountered in datasets\n     as a \"no data value\".\n   * If Python features are used that are unsupported by Numba, you will get\n     somewhat obscure errors. In such a case, ``numba.njit`` and test your\n     function separately with synthetic values for ``values, weights,\n     workspace``.\n   * The ``workspace`` array is provided to avoid dynamic memory allocations.\n     It is a an array of floats with the same size as ``values`` or\n     ``weights``. You may freely allocate new arrays within the reduction\n     function but it will impact performance. (Methods such as mode or median\n     require a workspace.)\n   * While we could have implemented a weighted mean as:\n     ``np.nansum(values * weights) / np.nansum(weights)``, the function above\n     is efficiently compiled by Numba and does not allocate temporary arrays.</p></div>\n\nTo use our custom method, we provide it at initialization of the\nOverlapRegridder:\n\n"
      ]
    },
    {
      "cell_type": "code",
      "execution_count": null,
      "metadata": {
        "collapsed": false
      },
      "outputs": [],
      "source": [
        "regridder = xu.OverlapRegridder(uda, grid, method=mean)\nresult = regridder.regrid(uda)\nresult.ugrid.plot(vmin=-20, vmax=90, cmap=\"terrain\")"
      ]
    },
    {
      "cell_type": "markdown",
      "metadata": {},
      "source": [
        "Not every reduction uses the ``weights`` and ``workspace`` arguments. For\nexample, a regular sum could only look at the values:\n\n"
      ]
    },
    {
      "cell_type": "code",
      "execution_count": null,
      "metadata": {
        "collapsed": false
      },
      "outputs": [],
      "source": [
        "def nansum(values, weights, workspace):\n    return np.nansum(values)"
      ]
    },
    {
      "cell_type": "markdown",
      "metadata": {},
      "source": [
        "## Custom percentiles\n\nXugrid provides a number of predefined percentiles (5, 10, 25, 50, 75, 90,\n95). In case you need a different percentile value, you can use this utility:\n\n"
      ]
    },
    {
      "cell_type": "code",
      "execution_count": null,
      "metadata": {
        "collapsed": false
      },
      "outputs": [],
      "source": [
        "p333 = xu.OverlapRegridder.create_percentile_method(33.3)"
      ]
    },
    {
      "cell_type": "markdown",
      "metadata": {},
      "source": [
        "Then, provide it as the regridder method as above:\n\n"
      ]
    },
    {
      "cell_type": "code",
      "execution_count": null,
      "metadata": {
        "collapsed": false
      },
      "outputs": [],
      "source": [
        "regridder = xu.OverlapRegridder(uda, grid, method=p333)\nresult = regridder.regrid(uda)\nresult.ugrid.plot(vmin=-20, vmax=90, cmap=\"terrain\")"
      ]
    },
    {
      "cell_type": "markdown",
      "metadata": {},
      "source": [
        "\n"
      ]
    }
  ],
  "metadata": {
    "kernelspec": {
      "display_name": "Python 3",
      "language": "python",
      "name": "python3"
    },
    "language_info": {
      "codemirror_mode": {
        "name": "ipython",
        "version": 3
      },
      "file_extension": ".py",
      "mimetype": "text/x-python",
      "name": "python",
      "nbconvert_exporter": "python",
      "pygments_lexer": "ipython3",
      "version": "3.12.10"
    }
  },
  "nbformat": 4,
  "nbformat_minor": 0
}