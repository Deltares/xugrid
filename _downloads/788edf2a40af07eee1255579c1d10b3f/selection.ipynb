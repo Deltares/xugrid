{
  "cells": [
    {
      "cell_type": "markdown",
      "metadata": {},
      "source": [
        "\n# Select unstructured data\n\nXarray has flexible tools for label based selection, in the form of ``.sel``\nand ``.isel`` for index selection. This works well for structured data since\nthe orthogonality of the x and y axes is reflected in the axes of the\nunderlying arrays. This orthogonality does not exist for unstructured grids, as\nthe data for all faces cannot be stored in a two-dimensional array and is\nstored in a one-dimensional array instead.\n\nXugrid provides tools for convenient spatial selection, primarily via the\n``.ugrid.sel`` method; its behavior is comparable to xarray's ``.sel`` method.\nThe ``.ugrid.sel`` method should only be used for selection in the x or y\ndimension. Selections along other dimension (such as time) should be performed\nby xarray's ``.sel`` instead (without the ``ugrid`` accessor).\n\nThe examples below demonstrate the various ways to select data.\n\n## Imports\n\nThe following imports suffice for the examples.\n"
      ]
    },
    {
      "cell_type": "code",
      "execution_count": null,
      "metadata": {
        "collapsed": false
      },
      "outputs": [],
      "source": [
        "import matplotlib.pyplot as plt\nimport numpy as np\nimport shapely\n\nimport xugrid as xu"
      ]
    },
    {
      "cell_type": "markdown",
      "metadata": {},
      "source": [
        "We will take a look at a sample dataset: a triangular grid with the surface\nelevation of the Netherlands.\n\n"
      ]
    },
    {
      "cell_type": "code",
      "execution_count": null,
      "metadata": {
        "collapsed": false
      },
      "outputs": [],
      "source": [
        "uda = xu.data.elevation_nl()\nuda.ugrid.plot(vmin=-20, vmax=90, cmap=\"terrain\")"
      ]
    },
    {
      "cell_type": "markdown",
      "metadata": {},
      "source": [
        "We will start by demonstrating the behavior of ``.ugrid.sel``. This method\ntakes several types of arguments, like its xarray equivalent. The return type\nand shape of the selection operation depends on the argument given.\n\n========== ===========\nSelection  Result type\n========== ===========\nSubset     xugrid\nPoint      xarray\nLine       xarray\n========== ===========\n\n## Grid subset selection\n\nA subset of the unstructured grid is returned by using slices without a step:\n\n"
      ]
    },
    {
      "cell_type": "code",
      "execution_count": null,
      "metadata": {
        "collapsed": false
      },
      "outputs": [],
      "source": [
        "subset = uda.ugrid.sel(x=slice(100_000.0, 200_000.0), y=slice(450_000.0, 550_000.0))\nsubset.ugrid.plot(vmin=-20, vmax=90, cmap=\"terrain\")"
      ]
    },
    {
      "cell_type": "markdown",
      "metadata": {},
      "source": [
        "The default arguments of ``x`` and ``y`` are: ``slice(None, None)``.\nIn such a case the entire grid is returned.\n\n"
      ]
    },
    {
      "cell_type": "code",
      "execution_count": null,
      "metadata": {
        "collapsed": false
      },
      "outputs": [],
      "source": [
        "subset = uda.ugrid.sel()\nsubset.ugrid.plot(vmin=-20, vmax=90, cmap=\"terrain\")"
      ]
    },
    {
      "cell_type": "markdown",
      "metadata": {},
      "source": [
        "<div class=\"alert alert-info\"><h4>Note</h4><p>``None`` in a Python slice can be interpreted as \"from the start\" or \"up to\n  and including the end\".</p></div>\n\nThis means we can easily select along a single dimension:\n\n"
      ]
    },
    {
      "cell_type": "code",
      "execution_count": null,
      "metadata": {
        "collapsed": false
      },
      "outputs": [],
      "source": [
        "subset = uda.ugrid.sel(x=slice(100_000.0, 200_000.0))\nsubset.ugrid.plot(vmin=-20, vmax=90, cmap=\"terrain\", aspect=1, size=5)"
      ]
    },
    {
      "cell_type": "markdown",
      "metadata": {},
      "source": [
        "Or, using ``None`` if we only care about the start:\n\n"
      ]
    },
    {
      "cell_type": "code",
      "execution_count": null,
      "metadata": {
        "collapsed": false
      },
      "outputs": [],
      "source": [
        "subset = uda.ugrid.sel(x=slice(100_000.0, None))\nsubset.ugrid.plot(vmin=-20, vmax=90, cmap=\"terrain\", aspect=1, size=5)"
      ]
    },
    {
      "cell_type": "markdown",
      "metadata": {},
      "source": [
        "## Point selection\n\nSince point data can be represented as an ordinary xarray DataArray with x\nand y coordinates, all point selection result in xarray DataArrays rather\nthan UgridDataArrays with an associated unstructured grid topology.\n\nWe will use a utility function to show what is selected on the map:\n\n"
      ]
    },
    {
      "cell_type": "code",
      "execution_count": null,
      "metadata": {
        "collapsed": false
      },
      "outputs": [],
      "source": [
        "def show_point_selection(uda, da):\n    _, ax = plt.subplots()\n    uda.ugrid.plot(ax=ax, vmin=-20, vmax=90, cmap=\"terrain\")\n    ax.scatter(da[\"mesh2d_x\"], da[\"mesh2d_y\"], color=\"red\")\n    ax.set_aspect(1.0)"
      ]
    },
    {
      "cell_type": "markdown",
      "metadata": {},
      "source": [
        "Two values will select a point:\n\n"
      ]
    },
    {
      "cell_type": "code",
      "execution_count": null,
      "metadata": {
        "collapsed": false
      },
      "outputs": [],
      "source": [
        "da = uda.ugrid.sel(x=150_000.0, y=463_000.0)\nshow_point_selection(uda, da)\nda"
      ]
    },
    {
      "cell_type": "markdown",
      "metadata": {},
      "source": [
        "Multiple values are broadcasted against each other (\"outer indexing\").\nIf we select by three x values and two y values, the result is a collection\nof six points:\n\n"
      ]
    },
    {
      "cell_type": "code",
      "execution_count": null,
      "metadata": {
        "collapsed": false
      },
      "outputs": [],
      "source": [
        "da = uda.ugrid.sel(x=[125_000.0, 150_000.0, 175_000.0], y=[400_000.0, 465_000.0])\nshow_point_selection(uda, da)\nda"
      ]
    },
    {
      "cell_type": "markdown",
      "metadata": {},
      "source": [
        "To select points without broadcasting, use ``.ugrid.sel_points`` instead:\n\n"
      ]
    },
    {
      "cell_type": "code",
      "execution_count": null,
      "metadata": {
        "collapsed": false
      },
      "outputs": [],
      "source": [
        "da = uda.ugrid.sel_points(\n    x=[125_000.0, 150_000.0, 175_000.0], y=[400_000.0, 430_000.0, 465_000.0]\n)\nshow_point_selection(uda, da)\nda"
      ]
    },
    {
      "cell_type": "markdown",
      "metadata": {},
      "source": [
        "We can sample points along a line as well by providing slices **with** a step:\n\n"
      ]
    },
    {
      "cell_type": "code",
      "execution_count": null,
      "metadata": {
        "collapsed": false
      },
      "outputs": [],
      "source": [
        "da = uda.ugrid.sel(x=slice(100_000.0, 200_000.0, 10_000.0), y=465_000.0)\nshow_point_selection(uda, da)\nda"
      ]
    },
    {
      "cell_type": "markdown",
      "metadata": {},
      "source": [
        "Two slices with a step results in broadcasting:\n\n"
      ]
    },
    {
      "cell_type": "code",
      "execution_count": null,
      "metadata": {
        "collapsed": false
      },
      "outputs": [],
      "source": [
        "da = uda.ugrid.sel(\n    x=slice(100_000.0, 200_000.0, 10_000.0), y=slice(400_000.0, 500_000.0, 10_000.0)\n)\nshow_point_selection(uda, da)\nda"
      ]
    },
    {
      "cell_type": "markdown",
      "metadata": {},
      "source": [
        "As well as a slice with a step and multiple values:\n\n"
      ]
    },
    {
      "cell_type": "code",
      "execution_count": null,
      "metadata": {
        "collapsed": false
      },
      "outputs": [],
      "source": [
        "da = uda.ugrid.sel(x=slice(100_000.0, 200_000.0, 10_000.0), y=[400_000.0, 430_000.0])\nshow_point_selection(uda, da)\nda"
      ]
    },
    {
      "cell_type": "markdown",
      "metadata": {},
      "source": [
        "## Line selection\n\nSince line data can be represented as an ordinary xarray DataArray with x\nand y coordinates, all line selection result in xarray DataArrays rather\nthan UgridDataArrays with an associated unstructured grid topology.\n\nLine selection is performed by finding all faces that are intersected by\nthe line.\n\nWe start by defining a utility to show the selection again:\n\n"
      ]
    },
    {
      "cell_type": "code",
      "execution_count": null,
      "metadata": {
        "collapsed": false
      },
      "outputs": [],
      "source": [
        "def show_line_selection(uda, da, line_x=None, line_y=None):\n    _, (ax0, ax1) = plt.subplots(ncols=2, figsize=(10, 5))\n    uda.ugrid.plot(ax=ax0, vmin=-20, vmax=90, cmap=\"terrain\")\n    da.plot(ax=ax1, x=\"mesh2d_s\")\n    if line_x is None:\n        ax0.axhline(line_y, color=\"red\")\n    elif line_y is None:\n        ax0.axvline(line_x, color=\"red\")\n    else:\n        ax0.plot(line_x, line_y, color=\"red\")\n    ax0.set_aspect(1.0)"
      ]
    },
    {
      "cell_type": "markdown",
      "metadata": {},
      "source": [
        "A single value for either x or y in ``.ugrid.sel`` will select values along a\nline:\n\n"
      ]
    },
    {
      "cell_type": "code",
      "execution_count": null,
      "metadata": {
        "collapsed": false
      },
      "outputs": [],
      "source": [
        "da = uda.ugrid.sel(y=465_000.0)\nshow_line_selection(uda, da, line_y=465_000.0)"
      ]
    },
    {
      "cell_type": "markdown",
      "metadata": {},
      "source": [
        "Line segments that are not axis aligned can be selected with\n``.ugrid.intersect_line``:\n\n"
      ]
    },
    {
      "cell_type": "code",
      "execution_count": null,
      "metadata": {
        "collapsed": false
      },
      "outputs": [],
      "source": [
        "da = uda.ugrid.intersect_line(start=(60_000.0, 400_000.0), end=(190_000.0, 475_000.0))\nshow_line_selection(uda, da, (60_000.0, 190_000.0), (400_000.0, 475_000.0))"
      ]
    },
    {
      "cell_type": "markdown",
      "metadata": {},
      "source": [
        "Linestrings can be selected with ``.ugrid.intersect_linestring``:\n\n"
      ]
    },
    {
      "cell_type": "code",
      "execution_count": null,
      "metadata": {
        "collapsed": false
      },
      "outputs": [],
      "source": [
        "linestring = shapely.geometry.LineString(\n    [\n        (60_000.0, 400_000.0),\n        (190_000.0, 400_000.0),\n        (120_000.0, 575_000.0),\n        (250_000.0, 575_000.0),\n    ]\n)\n\nda = uda.ugrid.intersect_linestring(linestring)\nshow_line_selection(uda, da, *shapely.get_coordinates(linestring).T)"
      ]
    },
    {
      "cell_type": "markdown",
      "metadata": {},
      "source": [
        "This will work for any type of shapely line:\n\n"
      ]
    },
    {
      "cell_type": "code",
      "execution_count": null,
      "metadata": {
        "collapsed": false
      },
      "outputs": [],
      "source": [
        "ring = shapely.geometry.Point(155_000.0, 463_000).buffer(50_000.0).exterior\nda = uda.ugrid.intersect_linestring(ring)\nshow_line_selection(uda, da, *shapely.get_coordinates(ring).T)"
      ]
    },
    {
      "cell_type": "markdown",
      "metadata": {},
      "source": [
        "## Index selection\n\nWe may also use ordinary index selection to create a subset. This does not\nrequire the ``.ugrid`` accessor. For example, to take only the first\nthousands faces:\n\n"
      ]
    },
    {
      "cell_type": "code",
      "execution_count": null,
      "metadata": {
        "collapsed": false
      },
      "outputs": [],
      "source": [
        "subset = uda.isel(mesh2d_nFaces=np.arange(1000))\nsubset.ugrid.plot(vmin=-20, vmax=90, cmap=\"terrain\", aspect=1, size=5)"
      ]
    },
    {
      "cell_type": "markdown",
      "metadata": {},
      "source": [
        "For a 2D topology, selecting faces by an index always results in a valid\ntopology. However, selecting by node or edge does not give a guarantee that\nthe result forms a valid 2D topology: e.g. if we only select two nodes, or\nonly two edges from a face, the result cannot form a valid 2D face.\n\nTo avoid generating invalid topologies, xugrid always checks whether the\nresult of a selection results in a valid 2D topology and raises an error if\nthe result is invalid.\n\nIn general, index selection should only be performed on the \"core\" dimension\nof the UGRID topology. This is the edge dimension for 1D topologies, and the\nface dimension for 2D topologies.\n\n"
      ]
    }
  ],
  "metadata": {
    "kernelspec": {
      "display_name": "Python 3",
      "language": "python",
      "name": "python3"
    },
    "language_info": {
      "codemirror_mode": {
        "name": "ipython",
        "version": 3
      },
      "file_extension": ".py",
      "mimetype": "text/x-python",
      "name": "python",
      "nbconvert_exporter": "python",
      "pygments_lexer": "ipython3",
      "version": "3.12.10"
    }
  },
  "nbformat": 4,
  "nbformat_minor": 0
}