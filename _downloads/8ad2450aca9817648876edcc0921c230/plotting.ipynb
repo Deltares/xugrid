{
  "cells": [
    {
      "cell_type": "markdown",
      "metadata": {},
      "source": [
        "\n# Plot unstructured mesh data\n\nThe labels that are present in xarray's data structures allow for easy creation\nof informative plots: think of dates on the x-axis, or geospatial coordinates.\nXarray provides a convenient way of plotting your data provided it is\nstructured. Xugrid extends these plotting methods to easily make spatial\n(x-y) plots of unstructured grids.\n\nLike Xarray's focus for plotting is the DataArray, Xugrid's focus is the\nUgridDataArray; like Xarray, if your (extracted) data fits into a pandas\nDataFrame, you're better of using pandas tools instead.\n\nAs every other method in Xugrid, any logic involving the unstructured topology\nis accessed via the ``.ugrid`` accessor on the DataArrays and Datasets;\nUgridDatasets and UgridDataArrays behave the same as ordinary Xarray DataArrays\nand Datasets otherwise.\n\n## Imports\n\nThe following imports suffice for the examples.\n"
      ]
    },
    {
      "cell_type": "code",
      "execution_count": null,
      "metadata": {
        "collapsed": false
      },
      "outputs": [],
      "source": [
        "import matplotlib.pyplot as plt\n\nimport xugrid"
      ]
    },
    {
      "cell_type": "markdown",
      "metadata": {},
      "source": [
        "We'll use a simple synthetic example. This dataset contains data for all\ntopological attributes of a two dimensional mesh:\n\n* Nodes: the coordinate pair (x, y) forming a point.\n* Edges: a line or curve bounded by two nodes.\n* Faces: the polygon enclosed by a set of edges.\n\nIn this disk example, very similar has been placed on the nodes, edges, and\nfaces.\n\n"
      ]
    },
    {
      "cell_type": "code",
      "execution_count": null,
      "metadata": {
        "collapsed": false
      },
      "outputs": [],
      "source": [
        "ds = xugrid.data.disk()\nds"
      ]
    },
    {
      "cell_type": "markdown",
      "metadata": {},
      "source": [
        "## UgridDataArray\n\nJust like Xarray, we can create a plot by selecting a DataArray from the\nDataset and calling the :py:meth:`UgridDataArray.ugrid.plot()` method.\n\n"
      ]
    },
    {
      "cell_type": "code",
      "execution_count": null,
      "metadata": {
        "collapsed": false
      },
      "outputs": [],
      "source": [
        "uda = ds[\"face_z\"]\nuda.ugrid.plot()"
      ]
    },
    {
      "cell_type": "markdown",
      "metadata": {},
      "source": [
        "Like Xarray, the axes and the colorbar are labeled automatically using the\navailable information.\n\nThe convenience function :py:meth:`xugrid.UgridDataArray.ugrid.plot()`\ndispatches on the topological dimension of the variable. In this case, the\ndata is associated with the face dimension of the topology. Data located on\nthe edges results in a different kind of plot:\n\n"
      ]
    },
    {
      "cell_type": "code",
      "execution_count": null,
      "metadata": {
        "collapsed": false
      },
      "outputs": [],
      "source": [
        "ds[\"edge_z\"].ugrid.plot()"
      ]
    },
    {
      "cell_type": "markdown",
      "metadata": {},
      "source": [
        "The method called by default depends on the type of the data:\n\n=============== ===========================\nDimension       Plotting function\n=============== ===========================\nFace            :py:func:`xugrid.plot.pcolormesh`\nEdge            :py:func:`xugrid.plot.line`\nNode            :py:func:`xugrid.plot.tripcolor`\n=============== ===========================\n\nWe can put them side by side to illustrate the differences:\n\n"
      ]
    },
    {
      "cell_type": "code",
      "execution_count": null,
      "metadata": {
        "collapsed": false
      },
      "outputs": [],
      "source": [
        "fig, (ax0, ax1, ax2) = plt.subplots(ncols=3, figsize=(11, 3), sharex=True, sharey=True)\nds[\"face_z\"].ugrid.plot(ax=ax0)\nds[\"edge_z\"].ugrid.plot(ax=ax1)\nds[\"node_z\"].ugrid.plot(ax=ax2)"
      ]
    },
    {
      "cell_type": "markdown",
      "metadata": {},
      "source": [
        "We can also exactly control the type of plot we want. For example, to plot\nfilled contours for data associated with the face dimension:\n\n"
      ]
    },
    {
      "cell_type": "code",
      "execution_count": null,
      "metadata": {
        "collapsed": false
      },
      "outputs": [],
      "source": [
        "ds[\"face_z\"].ugrid.plot.contourf()"
      ]
    },
    {
      "cell_type": "markdown",
      "metadata": {},
      "source": [
        "We can also overlay this data with the edges:\n\n"
      ]
    },
    {
      "cell_type": "code",
      "execution_count": null,
      "metadata": {
        "collapsed": false
      },
      "outputs": [],
      "source": [
        "fig, ax = plt.subplots()\nds[\"face_z\"].ugrid.plot.contourf()\nds[\"face_z\"].ugrid.plot.line(color=\"black\")"
      ]
    },
    {
      "cell_type": "markdown",
      "metadata": {},
      "source": [
        "In general, there has to be data associated with the mesh topology before a\nplot can be made. ``plot.line()`` forms an exception to this rule, as the\nlocation of the edges is meaningful on its own: for this reason\n``plot.line()`` does not error in the example above.\n\n## Other types of plot\n\nThe available plotting methods per topology dimension are listed here.\n\nFor the **face** dimension:\n\n* :py:func:`xugrid.plot.contour`\n* :py:func:`xugrid.plot.contourf`\n* :py:func:`xugrid.plot.imshow`\n* :py:func:`xugrid.plot.pcolormesh`\n* :py:func:`xugrid.plot.scatter`\n* :py:func:`xugrid.plot.surface`\n\nFor the **edge** dimension:\n\n* :py:func:`xugrid.plot.line`\n* :py:func:`xugrid.plot.scatter`\n\nFor the **node** dimension:\n\n* :py:func:`xugrid.plot.contour`\n* :py:func:`xugrid.plot.contourf`\n* :py:func:`xugrid.plot.scatter`\n* :py:func:`xugrid.plot.surface`\n* :py:func:`xugrid.plot.tripcolor`\n\nAll these (2D) plots are illustrated here for completeness' sake:\n\n"
      ]
    },
    {
      "cell_type": "code",
      "execution_count": null,
      "metadata": {
        "collapsed": false
      },
      "outputs": [],
      "source": [
        "fig, axes = plt.subplots(nrows=5, ncols=3, figsize=(10, 15))\n\nds[\"face_z\"].ugrid.plot.pcolormesh(ax=axes[0, 0])\nds[\"face_z\"].ugrid.plot.contour(ax=axes[1, 0])\nds[\"face_z\"].ugrid.plot.contourf(ax=axes[2, 0])\nds[\"face_z\"].ugrid.plot.imshow(ax=axes[3, 0])\nds[\"face_z\"].ugrid.plot.scatter(ax=axes[4, 0])\n\nds[\"edge_z\"].ugrid.plot.line(ax=axes[0, 1])\nds[\"edge_z\"].ugrid.plot.scatter(ax=axes[4, 1])\n\nds[\"node_z\"].ugrid.plot.tripcolor(ax=axes[0, 2])\nds[\"node_z\"].ugrid.plot.contour(ax=axes[1, 2])\nds[\"node_z\"].ugrid.plot.contourf(ax=axes[2, 2])\nds[\"node_z\"].ugrid.plot.scatter(ax=axes[4, 2])"
      ]
    },
    {
      "cell_type": "markdown",
      "metadata": {},
      "source": [
        "The ``surface`` methods generate 3D surface plots:\n\n"
      ]
    },
    {
      "cell_type": "code",
      "execution_count": null,
      "metadata": {
        "collapsed": false
      },
      "outputs": [],
      "source": [
        "fig = plt.figure(figsize=plt.figaspect(0.5))\nax0 = fig.add_subplot(1, 2, 1, projection=\"3d\")\nax1 = fig.add_subplot(1, 2, 2, projection=\"3d\")\nds[\"face_z\"].ugrid.plot.surface(ax=ax0)\nds[\"node_z\"].ugrid.plot.surface(ax=ax1)"
      ]
    },
    {
      "cell_type": "markdown",
      "metadata": {},
      "source": [
        "## Additional Arguments\n\nOnce again like in Xarray, additional arguments are passed to the underlying\nmatplotlib function and the additional arguments supported by Xarray can be\nused:\n\n"
      ]
    },
    {
      "cell_type": "code",
      "execution_count": null,
      "metadata": {
        "collapsed": false
      },
      "outputs": [],
      "source": [
        "ds[\"face_z\"].ugrid.plot(cmap=\"RdBu\", levels=8, yincrease=False)"
      ]
    },
    {
      "cell_type": "markdown",
      "metadata": {},
      "source": [
        "## As a function\n\nThe plotting methods can also be called as a function, in which case they\ntake an xarray DataArray and a xugrid grid as arguments.\n\n"
      ]
    },
    {
      "cell_type": "code",
      "execution_count": null,
      "metadata": {
        "collapsed": false
      },
      "outputs": [],
      "source": [
        "grid = ds.ugrid.grids[0]\nda = ds.obj[\"face_z\"]\n\nxugrid.plot.pcolormesh(grid, da)"
      ]
    },
    {
      "cell_type": "markdown",
      "metadata": {},
      "source": [
        "## Xarray DataArray plots\n\nAs mentioned, apart from the ``.ugrid`` accessor, a UgridDataArray behaves the\nsame as an Xarray DataArray. To illustrate, we can select a location\nsomewhere in the unstructured topology, and plot the resulting timeseries:\n\n"
      ]
    },
    {
      "cell_type": "code",
      "execution_count": null,
      "metadata": {
        "collapsed": false
      },
      "outputs": [],
      "source": [
        "ds = xugrid.data.adh_san_diego()\ndepth = ds[\"depth\"]\ndepth.isel(node=1000).plot()"
      ]
    }
  ],
  "metadata": {
    "kernelspec": {
      "display_name": "Python 3",
      "language": "python",
      "name": "python3"
    },
    "language_info": {
      "codemirror_mode": {
        "name": "ipython",
        "version": 3
      },
      "file_extension": ".py",
      "mimetype": "text/x-python",
      "name": "python",
      "nbconvert_exporter": "python",
      "pygments_lexer": "ipython3",
      "version": "3.12.10"
    }
  },
  "nbformat": 4,
  "nbformat_minor": 0
}