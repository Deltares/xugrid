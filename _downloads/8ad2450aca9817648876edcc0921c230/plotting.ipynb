{
  "cells": [
    {
      "cell_type": "code",
      "execution_count": null,
      "metadata": {
        "collapsed": false
      },
      "outputs": [],
      "source": [
        "%matplotlib inline"
      ]
    },
    {
      "cell_type": "markdown",
      "metadata": {},
      "source": [
        "\n# Plot unstructured mesh data\nXarray provides a convenient way of plotting your data, provided it is\nstructured. ``xugrid`` contains a few additional plotting functions to easily\nmake spatial plots of unstructured grids.\n"
      ]
    },
    {
      "cell_type": "code",
      "execution_count": null,
      "metadata": {
        "collapsed": false
      },
      "outputs": [],
      "source": [
        "import matplotlib.pyplot as plt\n\nimport xugrid\n\nds = xugrid.data.disk()\nuda = ds[\"face_z\"]\n\nuda.ugrid.plot()\nuda.ugrid.plot.face()\nuda.ugrid.plot.face.pcolormesh()\nuda.ugrid.plot.face.contour()\nuda.ugrid.plot.face.contourf()\nuda.ugrid.plot.face.imshow()\n\n\nfig, ax = plt.subplots()\nuda.ugrid.plot(ax=ax)\n\nuda.ugrid.plot.edge(color=\"black\", linewidth=1.0)\n\n# ax.triplot(triangulation)\n# selection.ugrid.plot.edge(ax=ax)\n\n# uda.ugrid.plot()\n#\n# uda.ugrid.plot.edge()\n# uda.ugrid.plot.face()\n# uda.ugrid.plot.node()\n#\n# uda.ugrid.plot.edge.line()\n#\n# uda.ugrid.plot.face.imshow()\n# uda.ugrid.plot.face.contour()\n# uda.ugrid.plot.face.contourf()\n# uda.ugrid.plot.face.scatter()\n# uda.ugrid.plot.face.surface()\n#\n# uda.ugrid.plot.node.tripcolor()\n# uda.ugrid.plot.node.contour()\n# uda.ugrid.plot.node.contourf()\n# uda.ugrid.plot.node.scatter()\n# uda.ugrid.plot.node.surface()"
      ]
    }
  ],
  "metadata": {
    "kernelspec": {
      "display_name": "Python 3",
      "language": "python",
      "name": "python3"
    },
    "language_info": {
      "codemirror_mode": {
        "name": "ipython",
        "version": 3
      },
      "file_extension": ".py",
      "mimetype": "text/x-python",
      "name": "python",
      "nbconvert_exporter": "python",
      "pygments_lexer": "ipython3",
      "version": "3.9.7"
    }
  },
  "nbformat": 4,
  "nbformat_minor": 0
}