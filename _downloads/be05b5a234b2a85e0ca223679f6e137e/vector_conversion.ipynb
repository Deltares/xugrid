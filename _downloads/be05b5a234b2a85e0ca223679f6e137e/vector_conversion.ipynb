{
  "cells": [
    {
      "cell_type": "markdown",
      "metadata": {},
      "source": [
        "\n# Vector geometry conversion\n\nA great deal of geospatial data is available not in gridded form, but in\nvector form: as points, lines, and polygons. In the Python data ecosystem,\nthese geometries and their associated data are generally represented by a\ngeopandas GeoDataFrame.\n\nXugrid provides a number of utilities to use such data in combination with\nunstructured grids. These are demonstrated below.\n"
      ]
    },
    {
      "cell_type": "code",
      "execution_count": null,
      "metadata": {
        "collapsed": false
      },
      "outputs": [],
      "source": [
        "import geopandas as gpd\nimport matplotlib.pyplot as plt\nimport pandas as pd\n\nimport xugrid as xu"
      ]
    },
    {
      "cell_type": "markdown",
      "metadata": {},
      "source": [
        "We'll once again use the surface elevation data example.\n\n"
      ]
    },
    {
      "cell_type": "code",
      "execution_count": null,
      "metadata": {
        "collapsed": false
      },
      "outputs": [],
      "source": [
        "uda = xu.data.elevation_nl()\nuda.ugrid.plot(vmin=-20, vmax=90, cmap=\"terrain\")"
      ]
    },
    {
      "cell_type": "markdown",
      "metadata": {},
      "source": [
        "## Conversion to GeoDataFrame\n\nA UgridDataArray or UgridDataset can be directly converted to a GeoDataFrame,\nprovided it only contains a spatial dimension (and not a dimension such as\ntime). When calling\n``.to_geodataframe``, a shapely Polygon is created for every face (cell).\n\n"
      ]
    },
    {
      "cell_type": "code",
      "execution_count": null,
      "metadata": {
        "collapsed": false
      },
      "outputs": [],
      "source": [
        "gdf = uda.ugrid.to_geodataframe()\nprint(gdf)"
      ]
    },
    {
      "cell_type": "markdown",
      "metadata": {},
      "source": [
        "We see that a GeoDataFrame with 5248 rows is created: one row for each face.\n\n## Conversion from GeoDataFrame\n\nWe can also make the opposite conversion: we can create a UgridDataSet from a\nGeoDataFrame.\n\n\n"
      ]
    },
    {
      "cell_type": "code",
      "execution_count": null,
      "metadata": {
        "collapsed": false
      },
      "outputs": [],
      "source": [
        "back = xu.UgridDataset.from_geodataframe(gdf)\nback"
      ]
    },
    {
      "cell_type": "markdown",
      "metadata": {},
      "source": [
        "<div class=\"alert alert-info\"><h4>Note</h4><p>Not every GeoDataFrame can be converted to a ``xugrid`` representation!\n  While an unstructured grid topology is generally always a valid collection\n  of polygon geometries, not every collection of polygon geometries is a\n  valid grid: polygons should be convex and non-overlapping to create a valid\n  unstructured grid.\n\n  Secondly, each polygon fully owns its vertices (nodes), while the face of a\n  UGRID topology shares its nodes with its neighbors. All the vertices of the\n  polygons must therefore be exactly snapped together to form a connected\n  mesh.\n\n  Hence, the ``.from_geodataframe()`` is primarily meant to create ``xugrid``\n  objects from data that were originally created as triangulation or\n  unstructured grid, but that were converted to vector geometry form.</p></div>\n\n## \"Rasterizing\", or \"burning\" vector geometries\n\nRasterizing is a common operation when working with raster and vector data.\nWhile we cannot name the operation \"rasterizing\" when we're dealing with\nunstructured grids, there is a clearly equivalent operation where we mark\ncells that are covered or touched by a polygon.\n\nIn this example, we mark the faces that are covered by a certain province.\n\nWe start by re-projecting the provinces dataset to the coordinate reference\nsystem (CRS), from WGS84 (EPSG:4326) to the Dutch National coordinate system\n(RD New, EPSG: 28992). Then, we give each province a unique id, which we\nburn into the grid.\n\n"
      ]
    },
    {
      "cell_type": "code",
      "execution_count": null,
      "metadata": {
        "collapsed": false
      },
      "outputs": [],
      "source": [
        "provinces = xu.data.provinces_nl().to_crs(28992)\nprovinces[\"id\"] = range(len(provinces))\nburned = xu.burn_vector_geometry(provinces, uda, column=\"id\")\nburned.ugrid.plot()"
      ]
    },
    {
      "cell_type": "markdown",
      "metadata": {},
      "source": [
        "This makes it very easy to classify and group data. Let's say\nwe want to compute the average surface elevation per province:\n\n"
      ]
    },
    {
      "cell_type": "code",
      "execution_count": null,
      "metadata": {
        "collapsed": false
      },
      "outputs": [],
      "source": [
        "burned = xu.burn_vector_geometry(provinces, uda, column=\"id\")\nuda.groupby(burned).mean()"
      ]
    },
    {
      "cell_type": "markdown",
      "metadata": {},
      "source": [
        "This is a convenient way to create masks for specific regions:\n\n"
      ]
    },
    {
      "cell_type": "code",
      "execution_count": null,
      "metadata": {
        "collapsed": false
      },
      "outputs": [],
      "source": [
        "utrecht = provinces[provinces[\"name\"] == \"Utrecht\"]\nburned = xu.burn_vector_geometry(utrecht, uda)\nxmin, ymin, xmax, ymax = utrecht.buffer(10_000).total_bounds\n\nfig, ax = plt.subplots()\nburned.ugrid.plot(ax=ax)\nburned.ugrid.plot.line(ax=ax, edgecolor=\"black\", linewidth=0.5)\nutrecht.plot(ax=ax, edgecolor=\"red\", facecolor=\"none\", linewidth=1.5)\nax.set_xlim(xmin, xmax)\nax.set_ylim(ymin, ymax)"
      ]
    },
    {
      "cell_type": "markdown",
      "metadata": {},
      "source": [
        "By default, ``burn_vector_geometry`` will only include grid faces whose\ncentroid are located in a polygon. We can also mark all intersected faces\nby setting ``all_touched=True``:\n\n"
      ]
    },
    {
      "cell_type": "code",
      "execution_count": null,
      "metadata": {
        "collapsed": false
      },
      "outputs": [],
      "source": [
        "burned = xu.burn_vector_geometry(utrecht, uda, all_touched=True)\n\nfig, ax = plt.subplots()\nburned.ugrid.plot(ax=ax)\nburned.ugrid.plot.line(ax=ax, edgecolor=\"black\", linewidth=0.5)\nutrecht.plot(ax=ax, edgecolor=\"red\", facecolor=\"none\", linewidth=1.5)\nax.set_xlim(xmin, xmax)\nax.set_ylim(ymin, ymax)"
      ]
    },
    {
      "cell_type": "markdown",
      "metadata": {},
      "source": [
        "We can also use such \"masks\" to e.g. modify specific parts of the grid data:\n\n"
      ]
    },
    {
      "cell_type": "code",
      "execution_count": null,
      "metadata": {
        "collapsed": false
      },
      "outputs": [],
      "source": [
        "modified = (uda + 50.0).where(burned == 1, other=uda)\nmodified.ugrid.plot(vmin=-20, vmax=90, cmap=\"terrain\")"
      ]
    },
    {
      "cell_type": "markdown",
      "metadata": {},
      "source": [
        "Note that ``all_touched=True`` is less suitable when differently valued\npolygons are present that share borders. While the centroid of a face is\ncontained by only a single polygon, the area of the polygon may be located\nin more than one polygon. In this case, the results of each polygon will\noverwrite each other.\n\n"
      ]
    },
    {
      "cell_type": "code",
      "execution_count": null,
      "metadata": {
        "collapsed": false
      },
      "outputs": [],
      "source": [
        "by_centroid = xu.burn_vector_geometry(provinces, uda, column=\"id\")\nby_touch = xu.burn_vector_geometry(provinces, uda, column=\"id\", all_touched=True)\n\nfig, axes = plt.subplots(ncols=2, figsize=(10, 5))\nby_centroid.ugrid.plot(ax=axes[0], add_colorbar=False)\nby_touch.ugrid.plot(ax=axes[1], add_colorbar=False)\n\nfor ax, title in zip(axes, (\"centroid\", \"all touched\")):\n    burned.ugrid.plot.line(ax=ax, edgecolor=\"black\", linewidth=0.5)\n    utrecht.plot(ax=ax, edgecolor=\"red\", facecolor=\"none\", linewidth=1.5)\n    ax.set_xlim(xmin, xmax)\n    ax.set_ylim(ymin, ymax)\n    ax.set_title(title)"
      ]
    },
    {
      "cell_type": "markdown",
      "metadata": {},
      "source": [
        "This function can also be used to burn points or lines into the faces of an\nunstructured grid.\n\nThe exterior boundaries of the province polygons will provide\na collection of linestrings that we can burn into the grid:\n\n"
      ]
    },
    {
      "cell_type": "code",
      "execution_count": null,
      "metadata": {
        "collapsed": false
      },
      "outputs": [],
      "source": [
        "lines = gpd.GeoDataFrame(geometry=provinces.exterior)\nburned = xu.burn_vector_geometry(lines, uda)\n\nfig, ax = plt.subplots()\nburned.ugrid.plot(ax=ax)\nburned.ugrid.plot.line(ax=ax, edgecolor=\"black\", linewidth=0.5)\nprovinces.plot(ax=ax, edgecolor=\"red\", facecolor=\"none\", linewidth=1.5)\nax.set_xlim(xmin, xmax)\nax.set_ylim(ymin, ymax)"
      ]
    },
    {
      "cell_type": "markdown",
      "metadata": {},
      "source": [
        "We can also burn points.\n\n"
      ]
    },
    {
      "cell_type": "code",
      "execution_count": null,
      "metadata": {
        "collapsed": false
      },
      "outputs": [],
      "source": [
        "province_centroids = gpd.GeoDataFrame(geometry=provinces.centroid)\nburned = xu.burn_vector_geometry(province_centroids, uda)\n\nfig, ax = plt.subplots()\nburned.ugrid.plot(ax=ax)\nprovinces.plot(ax=ax, edgecolor=\"red\", facecolor=\"none\")"
      ]
    },
    {
      "cell_type": "markdown",
      "metadata": {},
      "source": [
        "Finally, it's also possible to combine multiple geometry types in a single\nburn operation.\n\n"
      ]
    },
    {
      "cell_type": "code",
      "execution_count": null,
      "metadata": {
        "collapsed": false
      },
      "outputs": [],
      "source": [
        "combined = pd.concat([lines, province_centroids])\nburned = xu.burn_vector_geometry(combined, uda)\nburned.ugrid.plot()"
      ]
    },
    {
      "cell_type": "markdown",
      "metadata": {},
      "source": [
        "## Polygonizing\n\nWe can also do the opposite operation: turn collections of same-valued grid\nfaces into vector polygons. Let's classify the elevation data into below and\nabove the boundary of 5 m above mean sea level:\n\n"
      ]
    },
    {
      "cell_type": "code",
      "execution_count": null,
      "metadata": {
        "collapsed": false
      },
      "outputs": [],
      "source": [
        "classified = uda > 5\npolygonized = xu.polygonize(classified)\npolygonized.plot(facecolor=\"none\")"
      ]
    },
    {
      "cell_type": "markdown",
      "metadata": {},
      "source": [
        "We see that the results consists of two large polygons, in which the\ntriangles of the triangular grid have been merged to form a single polygon,\nand many smaller polygons, some of which correspond one to one to the\ntriangles of the grid.\n\n<div class=\"alert alert-info\"><h4>Note</h4><p>The produced polygon edges will follow exactly the face boundaries. When\n  the data consists of many unique values (e.g. unbinned elevation data), the\n  result will essentially be one polygon per face. In such cases, it is more\n  efficient to use ``xugrid.UgridDataArray.to_geodataframe``, which directly\n  converts every face to a polygon.</p></div>\n\n## Snap to grid\n\nThe examples above deal with data on the faces of the grid. However, data can\nalso be associated with the nodes or edges of the grid. For example, we can\nsnap line data to exactly follow the edges (the face boundaries):\n\n"
      ]
    },
    {
      "cell_type": "code",
      "execution_count": null,
      "metadata": {
        "collapsed": false
      },
      "outputs": [],
      "source": [
        "linestrings = gpd.GeoDataFrame(geometry=utrecht.exterior)\nsnapped_uds, snapped_gdf = xu.snap_to_grid(linestrings, uda, max_snap_distance=1.0)\n\nfig, ax = plt.subplots()\nsnapped_gdf.plot(ax=ax)\nsnapped_uds.ugrid.grid.plot(ax=ax, edgecolor=\"gray\", linewidth=0.5)\nutrecht.plot(ax=ax, edgecolor=\"red\", facecolor=\"none\", linewidth=0.75)\nax.set_xlim(xmin, xmax)\nax.set_ylim(ymin, ymax)"
      ]
    },
    {
      "cell_type": "markdown",
      "metadata": {},
      "source": [
        "There are (arguably) many ways in which a linestring could be snapped to\nedges. The function above uses the criterion the following criterion: if a\npart of the linestring is located between the centroid of a face and the\ncentroid of an edge, it is snapped to that edge.\n\nThis sometimes result in less (visually) pleasing results, such as the two\ntriangles in the lower left corner which are surrounded by the snapped edges.\nIn general, results are best when the line segments are relatively large\ncompare to the grid faces.\n\n"
      ]
    }
  ],
  "metadata": {
    "kernelspec": {
      "display_name": "Python 3",
      "language": "python",
      "name": "python3"
    },
    "language_info": {
      "codemirror_mode": {
        "name": "ipython",
        "version": 3
      },
      "file_extension": ".py",
      "mimetype": "text/x-python",
      "name": "python",
      "nbconvert_exporter": "python",
      "pygments_lexer": "ipython3",
      "version": "3.12.10"
    }
  },
  "nbformat": 4,
  "nbformat_minor": 0
}