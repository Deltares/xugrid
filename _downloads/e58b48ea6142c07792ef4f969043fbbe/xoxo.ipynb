{
  "cells": [
    {
      "cell_type": "markdown",
      "metadata": {},
      "source": [
        "\n# Xoxo\n\nThis is a small unstructured grid consisting of two unconnected parts. This is\ndownloaded via `xugrid.data.xoxo()`. The topology data is downloaded to a local\ndirectory if it's not there already.\n"
      ]
    },
    {
      "cell_type": "code",
      "execution_count": null,
      "metadata": {
        "collapsed": false
      },
      "outputs": [],
      "source": [
        "import matplotlib.pyplot as plt\n\nimport xugrid\n\ngrid = xugrid.data.xoxo()\n\nfig, ax = plt.subplots()\nxugrid.plot.line(grid, ax=ax, color=\"#bd0d1f\")\nax.set_xlim([0.0, 100.0])\nax.set_ylim([0.0, 85.0])\nax.set_aspect(1)"
      ]
    }
  ],
  "metadata": {
    "kernelspec": {
      "display_name": "Python 3",
      "language": "python",
      "name": "python3"
    },
    "language_info": {
      "codemirror_mode": {
        "name": "ipython",
        "version": 3
      },
      "file_extension": ".py",
      "mimetype": "text/x-python",
      "name": "python",
      "nbconvert_exporter": "python",
      "pygments_lexer": "ipython3",
      "version": "3.12.10"
    }
  },
  "nbformat": 4,
  "nbformat_minor": 0
}