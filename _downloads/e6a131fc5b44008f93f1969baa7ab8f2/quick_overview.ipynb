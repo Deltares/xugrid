{
  "cells": [
    {
      "cell_type": "markdown",
      "metadata": {},
      "source": [
        "\n# Quick overview\n\nHere are a number of quick examples of how to get started with xugrid. More\ndetailed explanation can be found in the rest of the documentation.\n\nWe'll start by importing a few essential packages.\n"
      ]
    },
    {
      "cell_type": "code",
      "execution_count": null,
      "metadata": {
        "collapsed": false
      },
      "outputs": [],
      "source": [
        "import numpy as np\nimport xarray as xr\n\nimport xugrid as xu"
      ]
    },
    {
      "cell_type": "markdown",
      "metadata": {},
      "source": [
        "## Create a UgridDataArray\n\nThere are three ways to create a UgridDataArray:\n\n* From an xarray Dataset containing the grid topology stored according to the\n  UGRID conventions.\n* From a xugrid Ugrid object and an xarray DataArray containing the data.\n* From a UGRID netCDF file, via :py:func:`xugrid.open_dataset`.\n\n\n### From xarray Dataset\n\nxugrid will automatically find the UGRID topological variables, and separate\nthem from the main data variables.\n\nDetails on the required variables can be found in the `UGRID conventions`_.\nFor 1D and 2D UGRID topologies, the required variables are:\n\n* x-coordinates of the nodes\n* y-coordinates of the nodes\n* edge node connectivity (1D) or face node connectivity (2D)\n* a \"dummy\" variable storing the names of the above variables in its\n  attributes\n\nWe'll start by fetching a dataset:\n\n"
      ]
    },
    {
      "cell_type": "code",
      "execution_count": null,
      "metadata": {
        "collapsed": false
      },
      "outputs": [],
      "source": [
        "ds = xu.data.adh_san_diego(xarray=True)\nds"
      ]
    },
    {
      "cell_type": "markdown",
      "metadata": {},
      "source": [
        "There are a number of topology coordinates and variables: ``node_x`` and\n``node_y``, ``mesh2d`` and ``face_node_connectivity``. The dummy variable\nis ``mesh2d`` contains only a 0 for data; its attributes contain a mapping of\nUGRID roles to dataset variables.\n\nWe can convert this dataset to a UgridDataset which will automatically\nseparate the variables:\n\n"
      ]
    },
    {
      "cell_type": "code",
      "execution_count": null,
      "metadata": {
        "collapsed": false
      },
      "outputs": [],
      "source": [
        "uds = xu.UgridDataset(ds)\nuds"
      ]
    },
    {
      "cell_type": "markdown",
      "metadata": {},
      "source": [
        "We can then grab one of the data variables as usual for xarray:\n\n"
      ]
    },
    {
      "cell_type": "code",
      "execution_count": null,
      "metadata": {
        "collapsed": false
      },
      "outputs": [],
      "source": [
        "elev = uds[\"elevation\"]\nelev"
      ]
    },
    {
      "cell_type": "markdown",
      "metadata": {},
      "source": [
        "### From Ugrid and DataArray\n\nAlternatively, we can build a Ugrid topology object first from vertices and\nconnectivity numpy arrays, for example when using the topology data generated\nby a mesh generator (at which stage there is no data asssociated with the\nnodes, edges, or faces).\n\nThere are many ways to construct such arrays, typically via mesh generators\nor Delaunay triangulation, but we will construct two simple triangles and\nsome data by hand here:\n\n"
      ]
    },
    {
      "cell_type": "code",
      "execution_count": null,
      "metadata": {
        "collapsed": false
      },
      "outputs": [],
      "source": [
        "nodes = np.array([[0, 0], [0, 1.1], [1, 0], [1, 1]])\nfaces = np.array([[2, 3, 0], [3, 1, 0]])\nfill_value = -1\n\ngrid = xu.Ugrid2d(nodes[:, 0], nodes[:, 1], fill_value, faces)\nda = xr.DataArray(\n    data=[1.0, 2.0],\n    dims=[grid.face_dimension],\n)\nuda = xu.UgridDataArray(da, grid)\nuda"
      ]
    },
    {
      "cell_type": "markdown",
      "metadata": {},
      "source": [
        "### From netCDF file\n\n:py:func:`xugrid.open_dataset` is demonstrated in the last section of this\nguide. Internally, it opens the netCDF as a regular dataset, then converts it\nas seen in the first example.\n\n## Plotting\n\n"
      ]
    },
    {
      "cell_type": "code",
      "execution_count": null,
      "metadata": {
        "collapsed": false
      },
      "outputs": [],
      "source": [
        "elev.ugrid.plot(cmap=\"viridis\")"
      ]
    },
    {
      "cell_type": "markdown",
      "metadata": {},
      "source": [
        "## Data selection\n\nA UgridDataArray behaves identical to an xarray DataArray:\n\n"
      ]
    },
    {
      "cell_type": "code",
      "execution_count": null,
      "metadata": {
        "collapsed": false
      },
      "outputs": [],
      "source": [
        "whole = xu.data.disk()[\"face_z\"]"
      ]
    },
    {
      "cell_type": "markdown",
      "metadata": {},
      "source": [
        "To select based on the topology, use the ``.ugrid`` attribute:\n\n"
      ]
    },
    {
      "cell_type": "code",
      "execution_count": null,
      "metadata": {
        "collapsed": false
      },
      "outputs": [],
      "source": [
        "subset = whole.ugrid.sel(y=slice(5.0, None))\nsubset.ugrid.plot()"
      ]
    },
    {
      "cell_type": "markdown",
      "metadata": {},
      "source": [
        "<div class=\"alert alert-info\"><h4>Note</h4><p>``ugrid.sel()`` currently only supports data on the faces for 2D\n  topologies, and data on edges for 1D topologies. More flexibility\n  may be added.</p></div>\n\n## Computation\n\nComputation on DataArrays is unchanged from xarray:\n\n"
      ]
    },
    {
      "cell_type": "code",
      "execution_count": null,
      "metadata": {
        "collapsed": false
      },
      "outputs": [],
      "source": [
        "uda + 10.0"
      ]
    },
    {
      "cell_type": "markdown",
      "metadata": {},
      "source": [
        "## Geopandas\n\nXugrid objects provide a number of conversion functions from and to geopandas\nGeoDataFrames using :py:meth:`xugrid.UgridDataset.from_geodataframe`. Note\nthat storing large grids as GeoDataFrames can be very inefficient.\n\n"
      ]
    },
    {
      "cell_type": "code",
      "execution_count": null,
      "metadata": {
        "collapsed": false
      },
      "outputs": [],
      "source": [
        "gdf = uda.ugrid.to_geodataframe(name=\"test\")\ngdf"
      ]
    },
    {
      "cell_type": "markdown",
      "metadata": {},
      "source": [
        "Conversion from Geopandas is easy too:\n\n"
      ]
    },
    {
      "cell_type": "code",
      "execution_count": null,
      "metadata": {
        "collapsed": false
      },
      "outputs": [],
      "source": [
        "xu.UgridDataset.from_geodataframe(gdf)"
      ]
    },
    {
      "cell_type": "markdown",
      "metadata": {},
      "source": [
        "## XugridDatasets\n\nLike an Xarray Dataset, a UgridDataset is a dict-like container of\nUgridDataArrays. It is required that they share the same grid topology;\nbut the individual DataArrays may be located on different aspects of the\ngrid (nodes, faces, edges).\n\n"
      ]
    },
    {
      "cell_type": "code",
      "execution_count": null,
      "metadata": {
        "collapsed": false
      },
      "outputs": [],
      "source": [
        "xu.data.disk()"
      ]
    },
    {
      "cell_type": "markdown",
      "metadata": {},
      "source": [
        "A UgridDataset may be initialized without data variables, but this requires\na grid object:\n\n"
      ]
    },
    {
      "cell_type": "code",
      "execution_count": null,
      "metadata": {
        "collapsed": false
      },
      "outputs": [],
      "source": [
        "new_uds = xu.UgridDataset(grids=uds.ugrid.grids)\nnew_uds"
      ]
    },
    {
      "cell_type": "markdown",
      "metadata": {},
      "source": [
        "We can then add variables one-by-one, as we might with an xarray Dataset:\n\n"
      ]
    },
    {
      "cell_type": "code",
      "execution_count": null,
      "metadata": {
        "collapsed": false
      },
      "outputs": [],
      "source": [
        "new_uds[\"elevation\"] = elev\nnew_uds"
      ]
    },
    {
      "cell_type": "markdown",
      "metadata": {},
      "source": [
        "## Write netCDF files\n\nOnce again like xarray, NetCDF is the recommended file format for xugrid\nobjects. Xugrid automatically stores the grid topology according to the UGRID\nconventions and merges it with the main dataset containing the data variables\nbefore writing.\n\n"
      ]
    },
    {
      "cell_type": "code",
      "execution_count": null,
      "metadata": {
        "collapsed": false
      },
      "outputs": [],
      "source": [
        "uds.ugrid.to_netcdf(\"example-ugrid.nc\")\nxu.open_dataset(\"example-ugrid.nc\")"
      ]
    },
    {
      "cell_type": "markdown",
      "metadata": {},
      "source": [
        "\n"
      ]
    }
  ],
  "metadata": {
    "kernelspec": {
      "display_name": "Python 3",
      "language": "python",
      "name": "python3"
    },
    "language_info": {
      "codemirror_mode": {
        "name": "ipython",
        "version": 3
      },
      "file_extension": ".py",
      "mimetype": "text/x-python",
      "name": "python",
      "nbconvert_exporter": "python",
      "pygments_lexer": "ipython3",
      "version": "3.12.10"
    }
  },
  "nbformat": 4,
  "nbformat_minor": 0
}