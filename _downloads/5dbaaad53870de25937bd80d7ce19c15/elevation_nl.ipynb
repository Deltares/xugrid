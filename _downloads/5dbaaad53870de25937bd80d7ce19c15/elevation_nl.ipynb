{
  "cells": [
    {
      "cell_type": "markdown",
      "metadata": {},
      "source": [
        "\n# Elevation NL\n\nThis is a small dataset containing a triangulation of a digital elevation model\nof the Netherlands.\n"
      ]
    },
    {
      "cell_type": "code",
      "execution_count": null,
      "metadata": {
        "collapsed": false
      },
      "outputs": [],
      "source": [
        "import matplotlib.pyplot as plt\n\nimport xugrid\n\nuda = xugrid.data.elevation_nl()\n\nsection_y = 475_000.0\nsection = uda.ugrid.sel(y=section_y)\n\nfig, (ax0, ax1) = plt.subplots(figsize=(22.6, 10), ncols=2)\nuda.ugrid.plot(ax=ax0, vmin=-20, vmax=90, cmap=\"terrain\")\nax0.axhline(y=section_y, color=\"red\")\nsection.plot(ax=ax1, x=\"mesh2d_x\")"
      ]
    }
  ],
  "metadata": {
    "kernelspec": {
      "display_name": "Python 3",
      "language": "python",
      "name": "python3"
    },
    "language_info": {
      "codemirror_mode": {
        "name": "ipython",
        "version": 3
      },
      "file_extension": ".py",
      "mimetype": "text/x-python",
      "name": "python",
      "nbconvert_exporter": "python",
      "pygments_lexer": "ipython3",
      "version": "3.12.10"
    }
  },
  "nbformat": 4,
  "nbformat_minor": 0
}