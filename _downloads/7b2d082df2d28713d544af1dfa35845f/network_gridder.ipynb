{
  "cells": [
    {
      "cell_type": "markdown",
      "metadata": {},
      "source": [
        "\n# Network gridder example\n\nIn this example, we demonstrate how to interpolate and grid data from a network\nof line elements (UGRID1D) to a 2D structured grid.\n"
      ]
    },
    {
      "cell_type": "markdown",
      "metadata": {},
      "source": [
        "We'll start by setting up the structured grid first and converting it to a\nUgrid2d grid.\n\n"
      ]
    },
    {
      "cell_type": "code",
      "execution_count": null,
      "metadata": {
        "collapsed": false
      },
      "outputs": [],
      "source": [
        "import numpy as np\nimport xarray as xr\n\nimport xugrid as xu\n\n\ndef make_structured_grid(nrow, ncol, dx, dy):\n    if dy >= 0:\n        raise ValueError(\"dy must be negative.\")\n\n    shape = nrow, ncol\n\n    xmin = 0.0\n    xmax = dx * ncol\n    ymin = 0.0\n    ymax = abs(dy) * nrow\n    dims = (\"y\", \"x\")\n\n    y = np.arange(ymax, ymin, dy) + 0.5 * dy\n    x = np.arange(xmin, xmax, dx) + 0.5 * dx\n    coords = {\"y\": y, \"x\": x}\n\n    return xr.DataArray(np.ones(shape, dtype=np.int32), coords=coords, dims=dims)\n\n\nstructured_grid = make_structured_grid(10, 10, 1.5, -1.5)\nuda = xu.UgridDataArray.from_structured2d(structured_grid)\nugrid2d = uda.ugrid.grid\n\nuda"
      ]
    },
    {
      "cell_type": "markdown",
      "metadata": {},
      "source": [
        "Next, we create a 1D network. This network consists of 5 nodes and 4 edges. At\nnode 2 the network forks to two branches. The data is located assigned to the\nnodes.\n\n"
      ]
    },
    {
      "cell_type": "code",
      "execution_count": null,
      "metadata": {
        "collapsed": false
      },
      "outputs": [],
      "source": [
        "node_xy = np.array(\n    [\n        [0.0, 0.0],\n        [5.0, 5.0],\n        [10.0, 5.0],\n        [15.0, 0.0],\n        [15.0, 10.0],\n    ]\n)\nedge_nodes = np.array(\n    [\n        [0, 1],\n        [1, 2],\n        [2, 3],\n        [2, 4],\n    ]\n)\nnetwork = xu.Ugrid1d(*node_xy.T, -1, edge_nodes)\ndata = xr.DataArray(\n    np.array([1, 1.5, 2, 4, -4], dtype=float), dims=(network.node_dimension,)\n)\nuda_1d = xu.UgridDataArray(data, grid=network)\n\nuda_1d"
      ]
    },
    {
      "cell_type": "markdown",
      "metadata": {},
      "source": [
        "Let's plot the 1D network on top of the 2D grid. The 1D network is shown in\nlight gray, the 2D grid in dark gray. The network's nodes are colored by data\nvalues.\n\n"
      ]
    },
    {
      "cell_type": "code",
      "execution_count": null,
      "metadata": {
        "collapsed": false
      },
      "outputs": [],
      "source": [
        "uda_1d.ugrid.plot(zorder=10)\nuda_1d.ugrid.grid.plot(color=\"black\", alpha=0.5)\nugrid2d.plot(color=\"gray\", alpha=0.5)"
      ]
    },
    {
      "cell_type": "markdown",
      "metadata": {},
      "source": [
        "## Intersect edges\n\nFirst, we need to find the intersection points between the edges of the\nnetwork and the 2D grid. We can do this by using the\n:meth:`xugrid.Ugrid1D.intersect_edges` method.\n\n"
      ]
    },
    {
      "cell_type": "code",
      "execution_count": null,
      "metadata": {
        "collapsed": false
      },
      "outputs": [],
      "source": [
        "edges_coords = ugrid2d.node_coordinates[ugrid2d.edge_node_connectivity]\n_, _, intersections_xy = network.intersect_edges(edges_coords)"
      ]
    },
    {
      "cell_type": "markdown",
      "metadata": {},
      "source": [
        "Let's look at the intersection points.\n\n"
      ]
    },
    {
      "cell_type": "code",
      "execution_count": null,
      "metadata": {
        "collapsed": false
      },
      "outputs": [],
      "source": [
        "import matplotlib.pyplot as plt\n\nfig, ax = plt.subplots()\n\nugrid2d.plot(\n    ax=ax,\n    color=\"gray\",\n    alpha=0.5,\n)\nplt.scatter(*intersections_xy.T)"
      ]
    },
    {
      "cell_type": "markdown",
      "metadata": {},
      "source": [
        "Let's take a look at the individual values. We can see that the intersection\npoints are located at the vertices of the 2D grid. This introduces duplicate\nintersection points.\n\n"
      ]
    },
    {
      "cell_type": "code",
      "execution_count": null,
      "metadata": {
        "collapsed": false
      },
      "outputs": [],
      "source": [
        "intersections_xy"
      ]
    },
    {
      "cell_type": "markdown",
      "metadata": {},
      "source": [
        "Because the line interesects cell vertices, we have duplicate intersection\npoints. Remove duplicates by finding the uniques, as duplicates are not\nallowed in the network refinement we'll do in the next step.\n\n"
      ]
    },
    {
      "cell_type": "code",
      "execution_count": null,
      "metadata": {
        "collapsed": false
      },
      "outputs": [],
      "source": [
        "_intersections_xy = np.unique(intersections_xy, axis=0)\n\n_intersections_xy"
      ]
    },
    {
      "cell_type": "markdown",
      "metadata": {},
      "source": [
        "## Refining the network\n\nLet's refine the network by the intersection points. This will create new nodes at\nthe intersection points and add edges between the new nodes and the original\n\n"
      ]
    },
    {
      "cell_type": "code",
      "execution_count": null,
      "metadata": {
        "collapsed": false
      },
      "outputs": [],
      "source": [
        "refined_network, refined_node_index = network.refine_by_vertices(\n    _intersections_xy, return_index=True\n)\n\nrefined_network"
      ]
    },
    {
      "cell_type": "markdown",
      "metadata": {},
      "source": [
        "We'll create a new UgridDataArray with the refined network. The data will be set to\nNaN at the refined nodes. The original data will be set to the original nodes.\n\n"
      ]
    },
    {
      "cell_type": "code",
      "execution_count": null,
      "metadata": {
        "collapsed": false
      },
      "outputs": [],
      "source": [
        "refined_data = xr.DataArray(\n    np.empty_like(refined_network.node_x), dims=(refined_network.node_dimension,)\n)\nuda_1d_refined = xu.UgridDataArray(refined_data, grid=refined_network)\n\n# Set data\nnode_dim = uda_1d.ugrid.grid.node_dimension\nuda_1d_refined.data[uda_1d[node_dim].data] = uda_1d.data\nuda_1d_refined.data[refined_node_index] = np.nan\n\nuda_1d_refined"
      ]
    },
    {
      "cell_type": "markdown",
      "metadata": {},
      "source": [
        "## Interpolation\n\nNext, interpolate the data to the refined nodes, we can do this with a laplace\ninterpolation. This nicely interpolates the data along the network: Notice\nthat the two branches on the right-hand side are interpolated separately.\n\n"
      ]
    },
    {
      "cell_type": "code",
      "execution_count": null,
      "metadata": {
        "collapsed": false
      },
      "outputs": [],
      "source": [
        "uda_1d_interpolated = uda_1d_refined.ugrid.laplace_interpolate()\n\nfig, ax = plt.subplots()\nuda_1d_interpolated.ugrid.plot(ax=ax, zorder=10)\nuda_1d_interpolated.ugrid.grid.plot(ax=ax, color=\"black\", alpha=0.5, zorder=2)\nugrid2d.plot(ax=ax, color=\"gray\", alpha=0.5, zorder=3)"
      ]
    },
    {
      "cell_type": "markdown",
      "metadata": {},
      "source": [
        "The final step before we can grid the network is setting the data to edge\ncentroids. We do this by averaging the data at the nodes that are connected to\nthe edges. This is done by using the edge_node_connectivity of the network.\n\n"
      ]
    },
    {
      "cell_type": "code",
      "execution_count": null,
      "metadata": {
        "collapsed": false
      },
      "outputs": [],
      "source": [
        "edge_data = xr.DataArray(\n    data=uda_1d_interpolated.data[refined_network.edge_node_connectivity].mean(axis=1),\n    dims=(refined_network.edge_dimension,),\n)\nuda_1d_edge = xu.UgridDataArray(edge_data, grid=refined_network)\n\nfig, ax = plt.subplots()\nuda_1d_edge.ugrid.plot(ax=ax, zorder=10)\nugrid2d.plot(ax=ax, color=\"gray\", alpha=0.5, zorder=3)"
      ]
    },
    {
      "cell_type": "markdown",
      "metadata": {},
      "source": [
        "## Gridding\n\nFinally, we can grid the data to the 2D grid. We can do this by using the\n:class:`xugrid.regrid.gridder.NetworkGridder` class. This class takes the\nUgrid1d grid as source and Ugrid2d grit as target, the method to use for\ngridding and the data to grid.\n\n"
      ]
    },
    {
      "cell_type": "code",
      "execution_count": null,
      "metadata": {
        "collapsed": false
      },
      "outputs": [],
      "source": [
        "from xugrid.regrid.gridder import NetworkGridder\n\ngridder = NetworkGridder(\n    source=uda_1d_edge.ugrid.grid,\n    target=ugrid2d,\n    method=\"mean\",\n)\n\ngridder"
      ]
    },
    {
      "cell_type": "markdown",
      "metadata": {},
      "source": [
        "Next, we can grid the data. Call the\n:meth:`xugrid.regrid.gridder.NetworkGridder.regrid` method to grid the data.\n\n"
      ]
    },
    {
      "cell_type": "code",
      "execution_count": null,
      "metadata": {
        "collapsed": false
      },
      "outputs": [],
      "source": [
        "network_gridded = gridder.regrid(uda_1d_edge)\n\nfig, ax = plt.subplots()\nnetwork_gridded.ugrid.plot(ax=ax)\nuda_1d_edge.ugrid.grid.plot(ax=ax, color=\"black\", alpha=0.5, zorder=2)\nugrid2d.plot(ax=ax, color=\"gray\", alpha=0.5, zorder=3)"
      ]
    }
  ],
  "metadata": {
    "kernelspec": {
      "display_name": "Python 3",
      "language": "python",
      "name": "python3"
    },
    "language_info": {
      "codemirror_mode": {
        "name": "ipython",
        "version": 3
      },
      "file_extension": ".py",
      "mimetype": "text/x-python",
      "name": "python",
      "nbconvert_exporter": "python",
      "pygments_lexer": "ipython3",
      "version": "3.12.10"
    }
  },
  "nbformat": 4,
  "nbformat_minor": 0
}