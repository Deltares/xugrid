{
  "cells": [
    {
      "cell_type": "markdown",
      "metadata": {},
      "source": [
        "\n# Regridding overview\n\n`Regridding`_ is the process of converting gridded data from one grid to\nanother grid. Xugrid provides tools for 2D and 3D regridding of structured\ngridded data, represented as xarray objects, as well as (`layered`_)\nunstructured gridded data, represented as xugrid objects.\n\nA number of regridding methods are provided, based on area or volume overlap,\nas well as interpolation routines. It currently only supports Cartesian\ncoordinates. See e.g. `xESMF`_ instead for regridding with a spherical Earth\nrepresentation (note: EMSF is `not available`_ via conda-forge on Windows).\n\nHere are a number of quick examples of how to get started with regridding.\n\nWe'll start by importing a few essential packages.\n"
      ]
    },
    {
      "cell_type": "code",
      "execution_count": null,
      "metadata": {
        "collapsed": false
      },
      "outputs": [],
      "source": [
        "import matplotlib.pyplot as plt\nimport xarray as xr\n\nimport xugrid as xu"
      ]
    },
    {
      "cell_type": "markdown",
      "metadata": {},
      "source": [
        "We will take a look at a sample dataset: a triangular grid with the surface\nelevation of the Netherlands.\n\n"
      ]
    },
    {
      "cell_type": "code",
      "execution_count": null,
      "metadata": {
        "collapsed": false
      },
      "outputs": [],
      "source": [
        "uda = xu.data.elevation_nl()\nuda.ugrid.plot(vmin=-20, vmax=90, cmap=\"terrain\")"
      ]
    },
    {
      "cell_type": "markdown",
      "metadata": {},
      "source": [
        "Xugrid provides several \"regridder\" classes which can convert gridded data\nfrom one grid to another grid. Let's generate a very simple coarse mesh that\ncovers the entire Netherlands.\n\n"
      ]
    },
    {
      "cell_type": "code",
      "execution_count": null,
      "metadata": {
        "collapsed": false
      },
      "outputs": [],
      "source": [
        "def create_grid(bounds, nx, ny):\n    \"\"\"Create a simple grid of triangles covering a rectangle.\"\"\"\n    import numpy as np\n    from matplotlib.tri import Triangulation\n\n    xmin, ymin, xmax, ymax = bounds\n    dx = (xmax - xmin) / nx\n    dy = (ymax - ymin) / ny\n    x = np.arange(xmin, xmax + dx, dx)\n    y = np.arange(ymin, ymax + dy, dy)\n    y, x = [a.ravel() for a in np.meshgrid(y, x, indexing=\"ij\")]\n    faces = Triangulation(x, y).triangles\n    return xu.Ugrid2d(x, y, -1, faces)\n\n\ngrid = create_grid(uda.ugrid.total_bounds, 7, 7)"
      ]
    },
    {
      "cell_type": "markdown",
      "metadata": {},
      "source": [
        "## CentroidLocatorRegridder\n\nAn easy way of regridding is by simply looking in which cell of the original\nthe centroids of the new grid fall.\n\n"
      ]
    },
    {
      "cell_type": "code",
      "execution_count": null,
      "metadata": {
        "collapsed": false
      },
      "outputs": [],
      "source": [
        "fig, ax = plt.subplots()\nuda.ugrid.plot(vmin=-20, vmax=90, cmap=\"terrain\", ax=ax)\ngrid.plot(ax=ax, color=\"red\")\nax.scatter(*grid.centroids.T, color=\"red\")"
      ]
    },
    {
      "cell_type": "markdown",
      "metadata": {},
      "source": [
        "Xugrid provides the CentroidLocatorRegridder for this:\n\n"
      ]
    },
    {
      "cell_type": "code",
      "execution_count": null,
      "metadata": {
        "collapsed": false
      },
      "outputs": [],
      "source": [
        "regridder = xu.CentroidLocatorRegridder(source=uda, target=grid)\nresult = regridder.regrid(uda)\nresult.ugrid.plot(vmin=-20, vmax=90, cmap=\"terrain\", edgecolor=\"red\")"
      ]
    },
    {
      "cell_type": "markdown",
      "metadata": {},
      "source": [
        "## OverlapRegridder\n\nSuch a regridding is not appropriate when the new grid cells are\nso large. Let's try the OverlapOverregridder instead.\n\n"
      ]
    },
    {
      "cell_type": "code",
      "execution_count": null,
      "metadata": {
        "collapsed": false
      },
      "outputs": [],
      "source": [
        "regridder = xu.OverlapRegridder(source=uda, target=grid)\nmean = regridder.regrid(uda)\nmean.ugrid.plot(vmin=-20, vmax=90, cmap=\"terrain\", edgecolor=\"red\")"
      ]
    },
    {
      "cell_type": "markdown",
      "metadata": {},
      "source": [
        "By default, the OverlapRegridder computes an area weighted mean.\nLet's try again, now with the minimum:\n\n"
      ]
    },
    {
      "cell_type": "code",
      "execution_count": null,
      "metadata": {
        "collapsed": false
      },
      "outputs": [],
      "source": [
        "regridder = xu.OverlapRegridder(source=uda, target=grid, method=\"minimum\")\nminimum = regridder.regrid(uda)\nminimum.ugrid.plot(vmin=-20, vmax=90, cmap=\"terrain\", edgecolor=\"red\")"
      ]
    },
    {
      "cell_type": "markdown",
      "metadata": {},
      "source": [
        "Or the maximum:\n\n"
      ]
    },
    {
      "cell_type": "code",
      "execution_count": null,
      "metadata": {
        "collapsed": false
      },
      "outputs": [],
      "source": [
        "regridder = xu.OverlapRegridder(source=uda, target=grid, method=\"maximum\")\nmaximum = regridder.regrid(uda)\nmaximum.ugrid.plot(vmin=-20, vmax=90, cmap=\"terrain\", edgecolor=\"red\")"
      ]
    },
    {
      "cell_type": "markdown",
      "metadata": {},
      "source": [
        "All regridders also work for multi-dimensional data.\n\nLet's pretend our elevation dataset contains multiple layers, for example to\ndenote multiple geological strata. We'll generate five layers, each with a\nthickness of 10.0 meters.\n\n"
      ]
    },
    {
      "cell_type": "code",
      "execution_count": null,
      "metadata": {
        "collapsed": false
      },
      "outputs": [],
      "source": [
        "thickness = xr.DataArray(\n    data=[10.0, 10.0, 10.0, 10.0, 10.0],\n    coords={\"layer\": [1, 2, 3, 4, 5]},\n    dims=[\"layer\"],\n)"
      ]
    },
    {
      "cell_type": "markdown",
      "metadata": {},
      "source": [
        "We need to make that the face dimension remains last, so we transpose the\nresult.\n\n"
      ]
    },
    {
      "cell_type": "code",
      "execution_count": null,
      "metadata": {
        "collapsed": false
      },
      "outputs": [],
      "source": [
        "bottom = (uda - thickness.cumsum(\"layer\")).transpose()\nbottom"
      ]
    },
    {
      "cell_type": "markdown",
      "metadata": {},
      "source": [
        "We can feed the result to the regridder, which will automatically regrid over\nall additional dimensions.\n\n"
      ]
    },
    {
      "cell_type": "code",
      "execution_count": null,
      "metadata": {
        "collapsed": false
      },
      "outputs": [],
      "source": [
        "mean_bottom = xu.OverlapRegridder(source=bottom, target=grid).regrid(bottom)\nmean_bottom"
      ]
    },
    {
      "cell_type": "markdown",
      "metadata": {},
      "source": [
        "Let's take a slice to briefly inspect our original layer bottom elevation,\nand the aggregated mean.\n\n"
      ]
    },
    {
      "cell_type": "code",
      "execution_count": null,
      "metadata": {
        "collapsed": false
      },
      "outputs": [],
      "source": [
        "section_y = 475_000.0\nsection = bottom.ugrid.sel(y=section_y)\nsection_mean = mean_bottom.ugrid.sel(y=section_y)\n\nfig, (ax0, ax1) = plt.subplots(ncols=2, figsize=(10, 5), sharex=True, sharey=True)\nsection.plot.line(x=\"mesh2d_s\", hue=\"layer\", ax=ax0)\nsection_mean.plot.line(x=\"mesh2d_s\", hue=\"layer\", ax=ax1)"
      ]
    },
    {
      "cell_type": "markdown",
      "metadata": {},
      "source": [
        "## BarycentricInterpolator\n\nAll examples above show reductions: from a fine grid to a coarse grid.\nHowever, xugrid also provides interpolation to generate smooth fine\nrepresentations of a coarse grid.\n\nTo illustrate, we will zoom in to a part of the Netherlands.\n\n"
      ]
    },
    {
      "cell_type": "code",
      "execution_count": null,
      "metadata": {
        "collapsed": false
      },
      "outputs": [],
      "source": [
        "part = uda.ugrid.sel(x=slice(125_000, 225_000), y=slice(440_000, 500_000))\npart.ugrid.plot(vmin=-20, vmax=90, cmap=\"terrain\")"
      ]
    },
    {
      "cell_type": "markdown",
      "metadata": {},
      "source": [
        "We can clearly identify the individual triangles that form the grid. To get a\nsmooth presentation, we can use the BarycentricInterpolator.\n\nWe will generate a fine grid.\n\n"
      ]
    },
    {
      "cell_type": "code",
      "execution_count": null,
      "metadata": {
        "collapsed": false
      },
      "outputs": [],
      "source": [
        "grid = create_grid(part.ugrid.total_bounds, nx=100, ny=100)"
      ]
    },
    {
      "cell_type": "markdown",
      "metadata": {},
      "source": [
        "We use the centroids of the fine grid to interpolate between the centroids of\nthe triangles.\n\n"
      ]
    },
    {
      "cell_type": "code",
      "execution_count": null,
      "metadata": {
        "collapsed": false
      },
      "outputs": [],
      "source": [
        "regridder = xu.BarycentricInterpolator(part, grid)\ninterpolated = regridder.regrid(part)\ninterpolated.ugrid.plot(vmin=-20, vmax=90, cmap=\"terrain\")"
      ]
    },
    {
      "cell_type": "markdown",
      "metadata": {},
      "source": [
        "## Arbitrary grids\n\nThe above examples all feature triangular source and target grids. However,\nthe regridders work for any collection of (convex) faces.\n\n"
      ]
    },
    {
      "cell_type": "code",
      "execution_count": null,
      "metadata": {
        "collapsed": false
      },
      "outputs": [],
      "source": [
        "grid = create_grid(part.ugrid.total_bounds, nx=20, ny=15)\nvoronoi_grid = grid.tesselate_centroidal_voronoi()\n\nregridder = xu.CentroidLocatorRegridder(part, voronoi_grid)\nresult = regridder.regrid(part)\n\nfig, ax = plt.subplots()\nresult.ugrid.plot(vmin=-20, vmax=90, cmap=\"terrain\")\nvoronoi_grid.plot(ax=ax, color=\"red\")"
      ]
    },
    {
      "cell_type": "markdown",
      "metadata": {},
      "source": [
        "## Re-use\n\nThe most expensive step of the regridding process is finding and computing\noverlaps. A regridder can be used repeatedly, provided the source topology\nis kept the same.\n\n"
      ]
    },
    {
      "cell_type": "code",
      "execution_count": null,
      "metadata": {
        "collapsed": false
      },
      "outputs": [],
      "source": [
        "part_other = part - 50.0\nresult = regridder.regrid(part_other)\nresult.ugrid.plot(vmin=-20, vmax=90, cmap=\"terrain\")"
      ]
    },
    {
      "cell_type": "markdown",
      "metadata": {},
      "source": [
        "\n"
      ]
    }
  ],
  "metadata": {
    "kernelspec": {
      "display_name": "Python 3",
      "language": "python",
      "name": "python3"
    },
    "language_info": {
      "codemirror_mode": {
        "name": "ipython",
        "version": 3
      },
      "file_extension": ".py",
      "mimetype": "text/x-python",
      "name": "python",
      "nbconvert_exporter": "python",
      "pygments_lexer": "ipython3",
      "version": "3.12.10"
    }
  },
  "nbformat": 4,
  "nbformat_minor": 0
}