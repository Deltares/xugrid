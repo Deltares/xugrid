{
  "cells": [
    {
      "cell_type": "markdown",
      "metadata": {},
      "source": [
        "\n# Centroid Voronoi Tesselation (CVT)\n\nIn principle, computing a centroid voronoi tesslation mesh from an existing mesh\nof convex cells is easy:\n\n* Compute the centroids of the cells.\n* Invert the face_node_connectivity index array.\n* For every node, find the connected faces.\n* Use the connected faces to find the centroids.\n* Order the centroids around the vertex in a counter-clockwise manner.\n\nDealing with the mesh exterior (beyond which no centroids are located) is the\ntricky part.\n\nFor simplicity this example will only deal with (bare) ``numpy`` and\n``scipy.sparse`` arrays. This example therefore also shows how to use these\nmodules, should you not want to rely on more complex dependencies such as\n``xugrid`` and ``xarray``.\n"
      ]
    },
    {
      "cell_type": "code",
      "execution_count": null,
      "metadata": {
        "collapsed": false
      },
      "outputs": [],
      "source": [
        "import matplotlib.pyplot as plt\nimport matplotlib.tri as mtri\nimport numpy as np\nfrom matplotlib.collections import LineCollection, PolyCollection\n\nfrom xugrid.constants import FILL_VALUE  # equals -1"
      ]
    },
    {
      "cell_type": "markdown",
      "metadata": {},
      "source": [
        "From xugrid, we need only import the ``connectivity`` and ``voronoi``\nmodules. The functions in these modules depend only on ``numpy`` and\n``scipy.sparse``.\n\n"
      ]
    },
    {
      "cell_type": "code",
      "execution_count": null,
      "metadata": {
        "collapsed": false
      },
      "outputs": [],
      "source": [
        "from xugrid.ugrid import connectivity, voronoi\n\n\ndef generate_disk(partitions: int, depth: int):\n    \"\"\"\n    Generate a triangular mesh for the unit circle.\n\n    Parameters\n    ----------\n    partitions: int\n        Number of triangles around the origin.\n    depth: int\n        Number of \"layers\" of triangles around the origin.\n\n    Returns\n    -------\n    vertices: np.ndarray of floats with shape ``(n_vertex, 2)``\n    triangles: np.ndarray of integers with shape ``(n_triangle, 3)``\n    \"\"\"\n    N = depth + 1\n    n_per_level = partitions * np.arange(N)\n    n_per_level[0] = 1\n\n    delta_angle = (2 * np.pi) / np.repeat(n_per_level, n_per_level)\n    index = np.repeat(np.insert(n_per_level.cumsum()[:-1], 0, 0), n_per_level)\n    angles = delta_angle.cumsum()\n    angles = angles - angles[index] + 0.5 * np.pi\n    radii = np.repeat(np.linspace(0.0, 1.0, N), n_per_level)\n\n    x = np.cos(angles) * radii\n    y = np.sin(angles) * radii\n    triang = mtri.Triangulation(x, y)\n    return np.column_stack((x, y)), triang.triangles\n\n\ndef edge_plot(vertices, edge_nodes, ax, **kwargs):\n    n_edge = len(edge_nodes)\n    edge_coords = np.empty((n_edge, 2, 2), dtype=float)\n    node_0 = edge_nodes[:, 0]\n    node_1 = edge_nodes[:, 1]\n    valid = (node_0 != FILL_VALUE) & (node_1 != FILL_VALUE)\n    node_0 = node_0[valid]\n    node_1 = node_1[valid]\n    edge_coords[:, 0, 0] = vertices[node_0, 0]\n    edge_coords[:, 0, 1] = vertices[node_0, 1]\n    edge_coords[:, 1, 0] = vertices[node_1, 0]\n    edge_coords[:, 1, 1] = vertices[node_1, 1]\n    collection = LineCollection(edge_coords, **kwargs)\n    primitive = ax.add_collection(collection)\n    ax.autoscale()\n    return primitive\n\n\ndef face_plot(vertices, face_nodes, ax, **kwargs):\n    vertices = vertices[face_nodes]\n    # Replace fill value; PolyCollection ignores NaN.\n    vertices[face_nodes == FILL_VALUE] = np.nan\n    collection = PolyCollection(vertices, **kwargs)\n    primitive = ax.add_collection(collection)\n    ax.autoscale()\n    return primitive\n\n\ndef comparison_plot(\n    vertices0,\n    faces0,\n    centroids0,\n    vertices1,\n    faces1,\n):\n    fig, (ax0, ax1, ax2) = plt.subplots(\n        nrows=1,\n        ncols=3,\n        figsize=(15, 5),\n        subplot_kw={\"box_aspect\": 1},\n        sharey=True,\n        sharex=True,\n    )\n\n    edges0, _ = connectivity.edge_connectivity(faces0)\n    edge_plot(vertices0, edges0, ax0, colors=\"black\")\n    ax0.scatter(*centroids0.T, color=\"red\")\n    ax0.scatter(*vertices0.T, color=\"black\")\n\n    edges1, _ = connectivity.edge_connectivity(faces1)\n    edge_plot(vertices0, edges0, ax1, colors=\"black\")\n    edge_plot(vertices1, edges1, ax1, colors=\"red\")\n\n    edge_plot(vertices1, edges1, ax2, colors=\"red\")\n    ax2.scatter(*vertices0.T, color=\"black\")\n    ax2.scatter(*centroids0.T, color=\"red\")\n\n    return fig"
      ]
    },
    {
      "cell_type": "markdown",
      "metadata": {},
      "source": [
        "Let's start by generating a simple unstructured mesh and use only its\ncentroids to generate a voronoi tesselation.\n\n"
      ]
    },
    {
      "cell_type": "code",
      "execution_count": null,
      "metadata": {
        "collapsed": false
      },
      "outputs": [],
      "source": [
        "vertices, faces = generate_disk(5, 2)\ncentroids = vertices[faces].mean(axis=1)\n\nnode_face_connectivity = connectivity.invert_dense_to_sparse(faces)\nvoronoi_vertices, voronoi_faces, face_index, _ = voronoi.voronoi_topology(\n    node_face_connectivity,\n    vertices,\n    centroids,\n    add_exterior=False,\n    add_vertices=False,\n)"
      ]
    },
    {
      "cell_type": "markdown",
      "metadata": {},
      "source": [
        "We can compare the two meshes:\n\n* Left the original mesh, with centroids colored red\n* The new mesh, overlaid on the original mesh.\n* Right the new mesh, with its centroids -- the original vertices -- colored\n  black.\n\n"
      ]
    },
    {
      "cell_type": "code",
      "execution_count": null,
      "metadata": {
        "collapsed": false
      },
      "outputs": [],
      "source": [
        "comparison_plot(vertices, faces, centroids, voronoi_vertices, voronoi_faces)"
      ]
    },
    {
      "cell_type": "markdown",
      "metadata": {},
      "source": [
        "It should be clear that the new voronoi mesh is not space filling: since it\nuses only the centroids, we do not preserve the exterior.\n\nThe ``voronoi_topology`` is capable of preserving the exterior exactly, but\nthis requires more topological information.\n\n"
      ]
    },
    {
      "cell_type": "code",
      "execution_count": null,
      "metadata": {
        "collapsed": false
      },
      "outputs": [],
      "source": [
        "edge_node_connectivity, face_edge_connectivity = connectivity.edge_connectivity(faces)\nedge_face_connectivity = connectivity.invert_dense(face_edge_connectivity)\nvoronoi_vertices, voronoi_faces, face_index, _ = voronoi.voronoi_topology(\n    node_face_connectivity,\n    vertices,\n    centroids,\n    edge_face_connectivity=edge_face_connectivity,\n    edge_node_connectivity=edge_node_connectivity,\n    add_exterior=True,\n    add_vertices=True,\n)\n\ncomparison_plot(vertices, faces, centroids, voronoi_vertices, voronoi_faces)"
      ]
    },
    {
      "cell_type": "markdown",
      "metadata": {},
      "source": [
        "A potential downside of including the full exterior only becomes clear when\nwe apply it to a mesh with a more complex exterior.\n\nLet's take the circular mesh above, and remove a chunk.\n\n"
      ]
    },
    {
      "cell_type": "code",
      "execution_count": null,
      "metadata": {
        "collapsed": false
      },
      "outputs": [],
      "source": [
        "vertices, faces = generate_disk(5, 2)\ncentroids = vertices[faces].mean(axis=1)\ndx, dy = centroids.T\nangle = np.arctan2(dy, dx)\nnew = faces[(angle < -0.87) | (angle > 0.27)]\nvertices = vertices[np.unique(new.ravel())]\nfaces = connectivity.renumber(new)\ncentroids = vertices[faces].mean(axis=1)\n\nnode_face_connectivity = connectivity.invert_dense_to_sparse(faces)\nedge_node_connectivity, face_edge_connectivity = connectivity.edge_connectivity(faces)\nedge_face_connectivity = connectivity.invert_dense(face_edge_connectivity)\nvoronoi_vertices, voronoi_faces, face_index, _ = voronoi.voronoi_topology(\n    node_face_connectivity,\n    vertices,\n    centroids,\n    edge_face_connectivity=edge_face_connectivity,\n    edge_node_connectivity=edge_node_connectivity,\n    add_exterior=True,\n    add_vertices=True,\n)\n\ncomparison_plot(vertices, faces, centroids, voronoi_vertices, voronoi_faces)"
      ]
    },
    {
      "cell_type": "markdown",
      "metadata": {},
      "source": [
        "The voronoi cell in the center of the disk has now become concave. This will\ngenerally render the mesh unsuitable for finite volume or control volume\nfinite difference simulations.\n\nWe can circumvent this difficulty entirely, by ignoring the exterior vertices\nof the original mesh altogether. We still add an orthogonal projection of\nevery centroid to exterior edges.\n\n"
      ]
    },
    {
      "cell_type": "code",
      "execution_count": null,
      "metadata": {
        "collapsed": false
      },
      "outputs": [],
      "source": [
        "node_face_connectivity = connectivity.invert_dense_to_sparse(faces)\nedge_node_connectivity, face_edge_connectivity = connectivity.edge_connectivity(faces)\nedge_face_connectivity = connectivity.invert_dense(face_edge_connectivity)\nvoronoi_vertices, voronoi_faces, face_index, _ = voronoi.voronoi_topology(\n    node_face_connectivity,\n    vertices,\n    centroids,\n    edge_face_connectivity=edge_face_connectivity,\n    edge_node_connectivity=edge_node_connectivity,\n    add_exterior=True,\n    add_vertices=False,\n)\n\ncomparison_plot(vertices, faces, centroids, voronoi_vertices, voronoi_faces)"
      ]
    },
    {
      "cell_type": "markdown",
      "metadata": {},
      "source": [
        "This will (obviously) result in a mesh that does not preserve the exterior\nexactly. Alternatively, we can choose to skip the exterior vertex if it\ncreates a concave face:\n\n"
      ]
    },
    {
      "cell_type": "code",
      "execution_count": null,
      "metadata": {
        "collapsed": false
      },
      "outputs": [],
      "source": [
        "node_face_connectivity = connectivity.invert_dense_to_sparse(faces)\nedge_node_connectivity, face_edge_connectivity = connectivity.edge_connectivity(faces)\nedge_face_connectivity = connectivity.invert_dense(face_edge_connectivity)\nvoronoi_vertices, voronoi_faces, face_index, _ = voronoi.voronoi_topology(\n    node_face_connectivity,\n    vertices,\n    centroids,\n    edge_face_connectivity=edge_face_connectivity,\n    edge_node_connectivity=edge_node_connectivity,\n    add_exterior=True,\n    add_vertices=True,\n    skip_concave=True,\n)\n\ncomparison_plot(vertices, faces, centroids, voronoi_vertices, voronoi_faces)"
      ]
    },
    {
      "cell_type": "markdown",
      "metadata": {},
      "source": [
        "These are the four options, side by side:\n\n"
      ]
    },
    {
      "cell_type": "code",
      "execution_count": null,
      "metadata": {
        "collapsed": false
      },
      "outputs": [],
      "source": [
        "nodes0, faces0, face_index0, _ = voronoi.voronoi_topology(\n    node_face_connectivity,\n    vertices,\n    centroids,\n)\nedges0, _ = connectivity.edge_connectivity(faces0)\n\nnodes1, faces1, face_index1, _ = voronoi.voronoi_topology(\n    node_face_connectivity,\n    vertices,\n    centroids,\n    edge_face_connectivity=edge_face_connectivity,\n    edge_node_connectivity=edge_node_connectivity,\n    add_exterior=True,\n    add_vertices=False,\n)\nedges1, _ = connectivity.edge_connectivity(faces1)\n\nnodes2, faces2, _, _ = voronoi.voronoi_topology(\n    node_face_connectivity,\n    vertices,\n    centroids,\n    edge_face_connectivity=edge_face_connectivity,\n    edge_node_connectivity=edge_node_connectivity,\n    add_exterior=True,\n    add_vertices=True,\n)\nedges2, _ = connectivity.edge_connectivity(faces2)\n\nnodes3, faces3, face_index3, node_map3 = voronoi.voronoi_topology(\n    node_face_connectivity,\n    vertices,\n    centroids,\n    edge_face_connectivity=edge_face_connectivity,\n    edge_node_connectivity=edge_node_connectivity,\n    add_exterior=True,\n    add_vertices=True,\n    skip_concave=True,\n)\nedges3, _ = connectivity.edge_connectivity(faces3)\n\nfig, axes = plt.subplots(\n    nrows=1,\n    ncols=4,\n    figsize=(20, 5),\n    subplot_kw={\"box_aspect\": 1},\n    sharey=True,\n    sharex=True,\n)\nall_edges = [edges0, edges1, edges2, edges3]\nall_nodes = [nodes0, nodes1, nodes2, nodes3]\nfor ax, e, v in zip(axes, all_edges, all_nodes):\n    edge_plot(v, e, ax, colors=\"red\")\n    ax.scatter(*centroids.T, color=\"red\")\n    ax.scatter(*vertices.T, color=\"black\")"
      ]
    },
    {
      "cell_type": "markdown",
      "metadata": {},
      "source": [
        "## Plotting\nOne of the uses of a voronoi tesselation is to visualize data that is located\non the faces. This is once again relevant for finite volume or finite\ndifference simulations; finite element simulation data is located on the\nnodes of the mesh.\n\nFor the sake of this example, let's assume we have data (e.g. pressure) that\nvaries linearly from the lower left to the upper right.\n\n"
      ]
    },
    {
      "cell_type": "code",
      "execution_count": null,
      "metadata": {
        "collapsed": false
      },
      "outputs": [],
      "source": [
        "data = centroids[:, 0] + centroids[:, 1]"
      ]
    },
    {
      "cell_type": "markdown",
      "metadata": {},
      "source": [
        "Before we can send the data of an unstructured mesh off to a plotting library\nsuch as ``matplotlib``, we'll generally need to triangulate the mesh. We can\ndirectly use the first two options, since the generated voronoi vertices\ncorrespond directly to a cell face. This is not the case for the third or\nfourth option, since it includes some vertices of the original mesh, which\nare connected to multiple faces.\n\n"
      ]
    },
    {
      "cell_type": "code",
      "execution_count": null,
      "metadata": {
        "collapsed": false
      },
      "outputs": [],
      "source": [
        "triangles0, face_triangles0 = connectivity.triangulate(faces0)\ntriangulation0 = mtri.Triangulation(nodes0[:, 0], nodes0[:, 1], triangles0)\n\ntriangles1, face_triangles1 = connectivity.triangulate(faces1)\ntriangulation1 = mtri.Triangulation(nodes1[:, 0], nodes1[:, 1], triangles1)\n\n\nfig, ((ax0, ax1), (ax2, ax3)) = plt.subplots(\n    nrows=2,\n    ncols=2,\n    figsize=(10, 10),\n    subplot_kw={\"box_aspect\": 1},\n    sharey=True,\n    sharex=True,\n)\n\nedge_plot(vertices, edge_node_connectivity, ax0, colors=\"black\")\nax0.scatter(*nodes0.T, color=\"black\")\nedge_plot(nodes0, edges0, ax0, colors=\"red\")\n\nax1.tricontourf(triangulation0, data[face_index0])\nax1.scatter(*nodes0.T, color=\"black\")\nedge_plot(vertices, edge_node_connectivity, ax1, colors=\"black\")\n\nedge_plot(vertices, edge_node_connectivity, ax2, colors=\"black\")\nax2.scatter(*nodes1.T, color=\"black\")\nedge_plot(nodes1, edges1, ax2, colors=\"red\")\n\nax3.tricontourf(triangulation1, data[face_index1])\nax3.scatter(*nodes1.T, color=\"black\")\nedge_plot(vertices, edge_node_connectivity, ax3, colors=\"black\")\n\nax0.set_xlim(-1.05, 1.05)\nax0.set_ylim(-1.05, 1.05)"
      ]
    },
    {
      "cell_type": "markdown",
      "metadata": {},
      "source": [
        "While the second option fills a greater proportion than the first option --\nwhich is confined to the area between the centroids -- it's clear this\napproach results in artifacts in the exterior voronoi cells.\n\n## Infinite rays\n\nWhen only vertices are considered, the voronoi edges between the most outward\nvertices are unbounded: they extend into infinity (the dotted lines in the\nplots below). These can be intersected with the mesh exterior.\n\nThe figure shows:\n\n* The voronoi tesselation (including infinite edges) made by\n  ``scipy.spatial.Voronoi``.\n* The voronoi tesslation produced by the ``voronoi_topology`` function in\n  ``xugrid``, along with original vertices in blue, and the original\n  centroids in orange.\n* Both of them, overlaid in the same plot.\n\n"
      ]
    },
    {
      "cell_type": "code",
      "execution_count": null,
      "metadata": {
        "collapsed": false
      },
      "outputs": [],
      "source": [
        "from scipy.spatial import Voronoi, voronoi_plot_2d\n\nvor = Voronoi(vertices)\n\nfig, (ax0, ax1, ax2) = plt.subplots(\n    figsize=(15, 5),\n    nrows=1,\n    ncols=3,\n    subplot_kw={\"box_aspect\": 1},\n    sharex=True,\n    sharey=True,\n)\n\nvoronoi_plot_2d(vor, ax=ax0)\n\nedge_plot(nodes2, edges2, ax1, colors=\"black\")\nax1.scatter(*vertices.T, color=\"blue\")\nax1.scatter(*centroids.T, color=\"orange\", zorder=3)\n\nvoronoi_plot_2d(vor, ax=ax2)\nedge_plot(nodes2, edges2, ax2, colors=\"black\")\n\nax0.set_xlim(-1.5, 1.5)\nax0.set_ylim(-1.5, 1.5)"
      ]
    }
  ],
  "metadata": {
    "kernelspec": {
      "display_name": "Python 3",
      "language": "python",
      "name": "python3"
    },
    "language_info": {
      "codemirror_mode": {
        "name": "ipython",
        "version": 3
      },
      "file_extension": ".py",
      "mimetype": "text/x-python",
      "name": "python",
      "nbconvert_exporter": "python",
      "pygments_lexer": "ipython3",
      "version": "3.12.10"
    }
  },
  "nbformat": 4,
  "nbformat_minor": 0
}