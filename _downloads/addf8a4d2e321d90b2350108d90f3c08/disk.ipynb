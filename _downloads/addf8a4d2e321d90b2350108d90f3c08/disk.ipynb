{
  "cells": [
    {
      "cell_type": "markdown",
      "metadata": {},
      "source": [
        "\n# Disk\n\nThis is a small synthetic unstructured XugridDataset with topology in the shape\nof a disk. It contains data on the nodes, faces, and edges.\n"
      ]
    },
    {
      "cell_type": "code",
      "execution_count": null,
      "metadata": {
        "collapsed": false
      },
      "outputs": [],
      "source": [
        "import matplotlib.pyplot as plt\n\nimport xugrid\n\nuds = xugrid.data.disk()\n\nfig, axes = plt.subplots(nrows=1, ncols=3, sharex=True, sharey=True, figsize=(15, 5))\naxes = axes.ravel()\nfor ax in axes:\n    ax.set_aspect(1)\n\nuds[\"node_z\"].ugrid.plot(ax=axes[0], add_colorbar=False, cmap=\"terrain\")\nuds[\"face_z\"].ugrid.plot(ax=axes[1], add_colorbar=False, cmap=\"terrain\")\nuds[\"edge_z\"].ugrid.plot(ax=axes[2], add_colorbar=False, cmap=\"terrain\")"
      ]
    }
  ],
  "metadata": {
    "kernelspec": {
      "display_name": "Python 3",
      "language": "python",
      "name": "python3"
    },
    "language_info": {
      "codemirror_mode": {
        "name": "ipython",
        "version": 3
      },
      "file_extension": ".py",
      "mimetype": "text/x-python",
      "name": "python",
      "nbconvert_exporter": "python",
      "pygments_lexer": "ipython3",
      "version": "3.12.10"
    }
  },
  "nbformat": 4,
  "nbformat_minor": 0
}