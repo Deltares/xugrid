{
  "cells": [
    {
      "cell_type": "markdown",
      "metadata": {},
      "source": [
        "\n# Partitioning\n\nGrid partitioning, or domain decomposition, is an important step in setting up\nparallellized simulations. Xugrid provides utilities for partitioning a grid\nand its associated data, and for merging partitions back into a single whole.\n"
      ]
    },
    {
      "cell_type": "code",
      "execution_count": null,
      "metadata": {
        "collapsed": false
      },
      "outputs": [],
      "source": [
        "import matplotlib.pyplot as plt\nimport numpy as np\n\nimport xugrid as xu"
      ]
    },
    {
      "cell_type": "markdown",
      "metadata": {},
      "source": [
        "## Create partitions\n\nXugrid wraps the well known `METIS library`_ via the `pymetis bindings`_.\nMETIS is generally used to partition a grid in such a manner that\ncommunication between parallel processes is minimized.\n\nWe'll demonstrate the functionality by diving the elevation example\ninto several parts.\n\n"
      ]
    },
    {
      "cell_type": "code",
      "execution_count": null,
      "metadata": {
        "collapsed": false
      },
      "outputs": [],
      "source": [
        "uda = xu.data.elevation_nl()\nuda.ugrid.plot(vmin=-20, vmax=90, cmap=\"terrain\")"
      ]
    },
    {
      "cell_type": "markdown",
      "metadata": {},
      "source": [
        "Let's start by dividing the grid into four parts:\n\n"
      ]
    },
    {
      "cell_type": "code",
      "execution_count": null,
      "metadata": {
        "collapsed": false
      },
      "outputs": [],
      "source": [
        "partitions = uda.ugrid.partition(n_part=4)\n\nfig, axes = plt.subplots(2, 2, figsize=(12.6, 10))\nfor partition, ax in zip(partitions, axes.ravel()):\n    partition.ugrid.plot(ax=ax, vmin=-20, vmax=90, cmap=\"terrain\")"
      ]
    },
    {
      "cell_type": "markdown",
      "metadata": {},
      "source": [
        "## Partition the grid\n\nCalling ``.partition`` on a UgridDataArray or UgridDataset will automatically\npartition the grid topology, select all associated data, and create a new\nUgridDataArray or UgridDataset for each partition.\n\nHowever, in some case, we might prefer to pre-compute the labels, and then\napply them multiple datasets. To do so, we compute the partition labels from\nthe grid. ``label_partitions`` returns a UgridDataArray, with every cell given\nits partition label number.\n\nWe can easily plot this data to visualize the partitions:\n\n"
      ]
    },
    {
      "cell_type": "code",
      "execution_count": null,
      "metadata": {
        "collapsed": false
      },
      "outputs": [],
      "source": [
        "labels = uda.ugrid.grid.label_partitions(n_part=12)\nlabels.ugrid.plot()"
      ]
    },
    {
      "cell_type": "markdown",
      "metadata": {},
      "source": [
        "Not quite the twelve provinces of the Netherlands!\n\nHowever, we may use the labels to partition the data nonetheless:\n\n"
      ]
    },
    {
      "cell_type": "code",
      "execution_count": null,
      "metadata": {
        "collapsed": false
      },
      "outputs": [],
      "source": [
        "partitions = uda.ugrid.partition_by_label(labels)\n\nfig, axes = plt.subplots(4, 3, figsize=(15, 15))\nfor partition, ax in zip(partitions, axes.ravel()):\n    partition.ugrid.plot(ax=ax, vmin=-20, vmax=90, cmap=\"terrain\")"
      ]
    },
    {
      "cell_type": "markdown",
      "metadata": {},
      "source": [
        "Since the labels are an ordinary UgridDataArray, we can easily store them in\na netCDF file and re-use them in another part of a workflow.\n\n## Merging partitions\n\nGenerally, after partitioning the data we write it as model input and run a\nmodel in parallel. Many model codes produce output per process. Xugrid can\nmerge these partitions back into one whole for post-processing:\n\n"
      ]
    },
    {
      "cell_type": "code",
      "execution_count": null,
      "metadata": {
        "collapsed": false
      },
      "outputs": [],
      "source": [
        "merged = xu.merge_partitions(partitions)[\"elevation\"]\n\nmerged.ugrid.plot(vmin=-20, vmax=90, cmap=\"terrain\")"
      ]
    },
    {
      "cell_type": "markdown",
      "metadata": {},
      "source": [
        "## Partitioning grids without data\n\nOf course, we can also partition the grid topology without any associated\ndata:\n\n"
      ]
    },
    {
      "cell_type": "code",
      "execution_count": null,
      "metadata": {
        "collapsed": false
      },
      "outputs": [],
      "source": [
        "grid = uda.ugrid.grid\ngrid_parts = grid.partition(n_part=4)\n\nfig, axes = plt.subplots(2, 2, figsize=(12.6, 10))\nfor part, ax in zip(grid_parts, axes.ravel()):\n    part.plot(ax=ax)"
      ]
    },
    {
      "cell_type": "markdown",
      "metadata": {},
      "source": [
        "... and merge them back into one whole:\n\n"
      ]
    },
    {
      "cell_type": "code",
      "execution_count": null,
      "metadata": {
        "collapsed": false
      },
      "outputs": [],
      "source": [
        "merged_grid, _ = xu.Ugrid2d.merge_partitions(grid_parts)\nmerged_grid.plot()"
      ]
    },
    {
      "cell_type": "markdown",
      "metadata": {},
      "source": [
        "## Preserving order\n\nNote that partioning and merging does not preserve order!\n\n"
      ]
    },
    {
      "cell_type": "code",
      "execution_count": null,
      "metadata": {
        "collapsed": false
      },
      "outputs": [],
      "source": [
        "uda == merged"
      ]
    },
    {
      "cell_type": "markdown",
      "metadata": {},
      "source": [
        "The topology is equivalent, but the nodes, edges, and faces are in a\ndifferent order. This is because ``merge_partitions`` simply concatenates the\npartitions.\n\nThe easiest way to restore the order is by providing an example of the\noriginal topology. ``reindex_like`` looks at the coordinates of both\n(equivalent!) grids and automatically determines how to reorder:\n\n"
      ]
    },
    {
      "cell_type": "code",
      "execution_count": null,
      "metadata": {
        "collapsed": false
      },
      "outputs": [],
      "source": [
        "reordered = merged.ugrid.reindex_like(uda)\nuda == reordered"
      ]
    },
    {
      "cell_type": "markdown",
      "metadata": {},
      "source": [
        "Alternatively, we can also assign IDs, carry these along, and use these to\nreorder the data after merging.\n\n"
      ]
    },
    {
      "cell_type": "code",
      "execution_count": null,
      "metadata": {
        "collapsed": false
      },
      "outputs": [],
      "source": [
        "uds = xu.UgridDataset(grids=[uda.ugrid.grid])\nuds[\"elevation\"] = uda\nuds[\"cell_id\"] = (\"mesh2d_nFaces\", np.arange(len(uda)))\n\npartitions = uds.ugrid.partition(n_part=4)\nmerged = xu.merge_partitions(partitions)\norder = np.argsort(merged[\"cell_id\"].values)\nreordered = merged.isel(mesh2d_nFaces=order)\n\nuds[\"elevation\"] == reordered[\"elevation\"]"
      ]
    },
    {
      "cell_type": "markdown",
      "metadata": {},
      "source": [
        "This is required if results are compared with the input, or with results\nstemming from another partitioning, e.g. one with a different number of\npartitions.\n\n\n"
      ]
    }
  ],
  "metadata": {
    "kernelspec": {
      "display_name": "Python 3",
      "language": "python",
      "name": "python3"
    },
    "language_info": {
      "codemirror_mode": {
        "name": "ipython",
        "version": 3
      },
      "file_extension": ".py",
      "mimetype": "text/x-python",
      "name": "python",
      "nbconvert_exporter": "python",
      "pygments_lexer": "ipython3",
      "version": "3.12.10"
    }
  },
  "nbformat": 4,
  "nbformat_minor": 0
}